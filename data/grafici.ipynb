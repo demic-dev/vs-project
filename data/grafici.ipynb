import matplotlib.pyplot as plt

# Data for the bar chart
games = ['NBA 2k25', 'Warhammer 40,000: Space Marine 2', 'Helldivers II', 'Call of Duty: Black Ops 6', 'Concord', 'Dragon Age: The Veilguard', 'Black Myth: Wukong', 'Star Wars Outlaws', 'Silent Hill 2', 'Skull and Bones', 
  'Suicide Squad: Kill the Justice League', 'S.T.A.L.K.E.R 2: Hearth of Chornobyl', 'Dragon Ball: Sparkling! Zero', 'Tekken 8', 'Dragon's Dogma 2', 'Like a Dragon: Infinite Wealth', 'Metaphor: ReFantazio']
sales = [354, 3565, 31545, 15552, 16, 946, 29922, 28, 475, 35, 250, 1133, 1462, 880, 19777, 434, 552, ]

# Create the horizontal bar chart
plt.barh(games, sales, color='skyblue')

# Add titles and labels
plt.title('Horizontal Bar Chart')
plt.xlabel('Values')
plt.ylabel('Categories')

# Show the plot
plt.tight_layout()  # Adjust layout to prevent clipping
plt.show()
