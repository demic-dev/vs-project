{
 "cells": [
  {
   "cell_type": "markdown",
   "id": "f7650ef6-8ede-4a97-b463-074cc3de1a55",
   "metadata": {},
   "source": [
    "## Guidelines\n",
    "\n",
    "Le prime celle qui in basso, in [questa](http://localhost:8888/notebooks/charts.ipynb#Setting-Up) sezione, hanno lo scopo di scaricare e installare i pacchetti (se non già presenti) e di importare moduli e file csv.\n",
    "\n",
    "\n",
    "Nel blocco di codice in cui si stampa ogni grafico, ci saranno commentate le label e le intestazioni, perché il grafico viene esportato in `.svg` nella cartella `/charts/` e viene aggiunto in una fase successiva, durante la creazione della presentazione."
   ]
  },
  {
   "cell_type": "markdown",
   "id": "2b6849ae-b385-405d-b0fe-e86ae4277512",
   "metadata": {},
   "source": [
    "## Setting Up"
   ]
  },
  {
   "cell_type": "code",
   "execution_count": 1,
   "id": "638293d2-ae81-4447-ae54-ec5b1f63ed9a",
   "metadata": {},
   "outputs": [],
   "source": [
    "# import sys\n",
    "# !{sys.executable} -m pip install seaborn"
   ]
  },
  {
   "cell_type": "code",
   "execution_count": 2,
   "id": "8f78689b-4fe8-45f2-8445-cbe94b662519",
   "metadata": {},
   "outputs": [],
   "source": [
    "columns_mapping = {\"Gioco\": \"name\", \"Genere (principale)\": \"genre\", \"Produzione*\": \"production\", \"Origine\": \"from_where\", \"prezzo(€)\": \"price_in_euro\", \"Vendite stimate(k)\": \"sales_k\", \"max giocatori\": \"max_players\", \"recensioni positive(%)\": \"reviews\"}\n",
    "boolean_mapping = {'TRUE': True, '': False}"
   ]
  },
  {
   "cell_type": "code",
   "execution_count": 3,
   "id": "dbd6573a-cb3e-4b85-9950-8b24e9970dd1",
   "metadata": {},
   "outputs": [],
   "source": [
    "import pandas as pd\n",
    "import matplotlib.pyplot as plt\n",
    "import matplotlib.colors as pltcolors\n",
    "import plotly.express as px\n",
    "import joypy\n",
    "\n",
    "import os\n",
    "import glob"
   ]
  },
  {
   "cell_type": "code",
   "execution_count": 4,
   "id": "eee12002-7787-45d3-a567-0667c6cc76cd",
   "metadata": {},
   "outputs": [],
   "source": [
    "from tempfile import NamedTemporaryFile\n",
    "from urllib.request import urlopen\n",
    "import matplotlib.font_manager as fm\n",
    "\n",
    "url = 'https://github.com/google/fonts/blob/main/ofl/lato/Lato-Regular.ttf?raw=true'\n",
    "\n",
    "response = urlopen(url)\n",
    "f = NamedTemporaryFile(delete=False, suffix='.ttf')\n",
    "f.write(response.read())\n",
    "f.close()\n",
    "\n",
    "fm.fontManager.addfont(f.name)\n",
    "prop = fm.FontProperties(fname=f.name)\n",
    "\n",
    "plt.rcParams['font.family'] = 'sans-serif'\n",
    "plt.rcParams['font.sans-serif'] = prop.get_name()\n",
    "\n",
    "plt.rcParams[\"svg.fonttype\"] = 'none'"
   ]
  },
  {
   "cell_type": "code",
   "execution_count": 5,
   "id": "ac127af6-2118-4936-82ec-9d094cba381d",
   "metadata": {},
   "outputs": [],
   "source": [
    "def fillempty_floats(df, columns):\n",
    "    for column in columns:\n",
    "        df[column] = df[column].replace('', 0)\n",
    "        df[column] = df[column].astype('float32')\n",
    "    return df\n",
    "\n",
    "def build_chart_path(name):\n",
    "    return f\"charts/{name}.svg\""
   ]
  },
  {
   "cell_type": "code",
   "execution_count": 6,
   "id": "46b550ce-2bcd-4102-b7b9-74c69bfc993f",
   "metadata": {},
   "outputs": [],
   "source": [
    "games = pd.read_csv(\"data/2024-games.csv\", na_filter=False)\n",
    "games.rename(columns=columns_mapping, inplace=True)\n",
    "games['comparing_with_concord'] = games['comparing_with_concord'].map(boolean_mapping)\n",
    "games['genre'] = games['genre'].str.lower()\n",
    "games = fillempty_floats(games, [\"price_in_euro\", \"sales_k\", \"max_players\", \"reviews\"])"
   ]
  },
  {
   "cell_type": "code",
   "execution_count": 7,
   "id": "ad50b15b-4f66-4382-a04f-3be211f1fa11",
   "metadata": {},
   "outputs": [
    {
     "data": {
      "text/html": [
       "<div>\n",
       "<style scoped>\n",
       "    .dataframe tbody tr th:only-of-type {\n",
       "        vertical-align: middle;\n",
       "    }\n",
       "\n",
       "    .dataframe tbody tr th {\n",
       "        vertical-align: top;\n",
       "    }\n",
       "\n",
       "    .dataframe thead th {\n",
       "        text-align: right;\n",
       "    }\n",
       "</style>\n",
       "<table border=\"1\" class=\"dataframe\">\n",
       "  <thead>\n",
       "    <tr style=\"text-align: right;\">\n",
       "      <th></th>\n",
       "      <th>name</th>\n",
       "      <th>genre</th>\n",
       "      <th>production</th>\n",
       "      <th>from_where</th>\n",
       "      <th>price_in_euro</th>\n",
       "      <th>sales_k</th>\n",
       "      <th>max_players</th>\n",
       "      <th>reviews</th>\n",
       "      <th>date</th>\n",
       "      <th>comparing_with_concord</th>\n",
       "    </tr>\n",
       "  </thead>\n",
       "  <tbody>\n",
       "    <tr>\n",
       "      <th>0</th>\n",
       "      <td>Concord</td>\n",
       "      <td>pvp shooter</td>\n",
       "      <td>AAA</td>\n",
       "      <td>America</td>\n",
       "      <td>40.0</td>\n",
       "      <td>16.0</td>\n",
       "      <td>697.0</td>\n",
       "      <td>66.0</td>\n",
       "      <td>23 agosto</td>\n",
       "      <td>False</td>\n",
       "    </tr>\n",
       "    <tr>\n",
       "      <th>1</th>\n",
       "      <td>Life Is Strange: Double Exposure</td>\n",
       "      <td>graphic adventure</td>\n",
       "      <td>AA</td>\n",
       "      <td>America</td>\n",
       "      <td>50.0</td>\n",
       "      <td>104.0</td>\n",
       "      <td>8524.0</td>\n",
       "      <td>66.0</td>\n",
       "      <td></td>\n",
       "      <td>False</td>\n",
       "    </tr>\n",
       "    <tr>\n",
       "      <th>2</th>\n",
       "      <td>WWE 2K24</td>\n",
       "      <td>sport</td>\n",
       "      <td>AA</td>\n",
       "      <td>America</td>\n",
       "      <td>60.0</td>\n",
       "      <td>187.0</td>\n",
       "      <td>8789.0</td>\n",
       "      <td>71.0</td>\n",
       "      <td></td>\n",
       "      <td>False</td>\n",
       "    </tr>\n",
       "    <tr>\n",
       "      <th>3</th>\n",
       "      <td>NBA 2k25</td>\n",
       "      <td>sport</td>\n",
       "      <td>AAA</td>\n",
       "      <td>America</td>\n",
       "      <td>70.0</td>\n",
       "      <td>354.0</td>\n",
       "      <td>40856.0</td>\n",
       "      <td>56.0</td>\n",
       "      <td></td>\n",
       "      <td>False</td>\n",
       "    </tr>\n",
       "    <tr>\n",
       "      <th>4</th>\n",
       "      <td>Animal Well</td>\n",
       "      <td>platform</td>\n",
       "      <td>indie</td>\n",
       "      <td>America</td>\n",
       "      <td>25.0</td>\n",
       "      <td>372.0</td>\n",
       "      <td>8133.0</td>\n",
       "      <td>93.0</td>\n",
       "      <td></td>\n",
       "      <td>False</td>\n",
       "    </tr>\n",
       "    <tr>\n",
       "      <th>5</th>\n",
       "      <td>Pacific Drive</td>\n",
       "      <td>survival</td>\n",
       "      <td>indie</td>\n",
       "      <td>America</td>\n",
       "      <td>30.0</td>\n",
       "      <td>502.0</td>\n",
       "      <td>18507.0</td>\n",
       "      <td>81.0</td>\n",
       "      <td></td>\n",
       "      <td>False</td>\n",
       "    </tr>\n",
       "    <tr>\n",
       "      <th>6</th>\n",
       "      <td>Dragon Age: The Veilguard</td>\n",
       "      <td>role-playing game</td>\n",
       "      <td>AAA</td>\n",
       "      <td>America</td>\n",
       "      <td>60.0</td>\n",
       "      <td>946.0</td>\n",
       "      <td>89418.0</td>\n",
       "      <td>70.0</td>\n",
       "      <td></td>\n",
       "      <td>False</td>\n",
       "    </tr>\n",
       "    <tr>\n",
       "      <th>7</th>\n",
       "      <td>Balatro</td>\n",
       "      <td>gioco di carte</td>\n",
       "      <td>indie</td>\n",
       "      <td>America</td>\n",
       "      <td>14.0</td>\n",
       "      <td>1862.0</td>\n",
       "      <td>37977.0</td>\n",
       "      <td>96.0</td>\n",
       "      <td></td>\n",
       "      <td>False</td>\n",
       "    </tr>\n",
       "    <tr>\n",
       "      <th>8</th>\n",
       "      <td>Warhammer 40,000: Space Marine 2</td>\n",
       "      <td>pve shooter</td>\n",
       "      <td>AAA</td>\n",
       "      <td>America</td>\n",
       "      <td>60.0</td>\n",
       "      <td>3565.0</td>\n",
       "      <td>225690.0</td>\n",
       "      <td>80.0</td>\n",
       "      <td></td>\n",
       "      <td>False</td>\n",
       "    </tr>\n",
       "    <tr>\n",
       "      <th>9</th>\n",
       "      <td>Call of Duty: Black Ops 6</td>\n",
       "      <td>pvp shooter</td>\n",
       "      <td>AAA</td>\n",
       "      <td>America</td>\n",
       "      <td>80.0</td>\n",
       "      <td>15552.0</td>\n",
       "      <td>315334.0</td>\n",
       "      <td>57.0</td>\n",
       "      <td>25 ottobre</td>\n",
       "      <td>False</td>\n",
       "    </tr>\n",
       "    <tr>\n",
       "      <th>10</th>\n",
       "      <td>Deadlock</td>\n",
       "      <td>pvp shooter</td>\n",
       "      <td>AA</td>\n",
       "      <td>America</td>\n",
       "      <td>0.0</td>\n",
       "      <td>0.0</td>\n",
       "      <td>171490.0</td>\n",
       "      <td>0.0</td>\n",
       "      <td>2 settembre</td>\n",
       "      <td>True</td>\n",
       "    </tr>\n",
       "    <tr>\n",
       "      <th>11</th>\n",
       "      <td>Cat Quest III</td>\n",
       "      <td>action-adventure</td>\n",
       "      <td>indie</td>\n",
       "      <td>Asia</td>\n",
       "      <td>20.0</td>\n",
       "      <td>73.0</td>\n",
       "      <td>2603.0</td>\n",
       "      <td>90.0</td>\n",
       "      <td></td>\n",
       "      <td>False</td>\n",
       "    </tr>\n",
       "    <tr>\n",
       "      <th>12</th>\n",
       "      <td>Like a Dragon: Infinite Wealth</td>\n",
       "      <td>role-playing game</td>\n",
       "      <td>AAA</td>\n",
       "      <td>Asia</td>\n",
       "      <td>70.0</td>\n",
       "      <td>434.0</td>\n",
       "      <td>46161.0</td>\n",
       "      <td>89.0</td>\n",
       "      <td></td>\n",
       "      <td>False</td>\n",
       "    </tr>\n",
       "    <tr>\n",
       "      <th>13</th>\n",
       "      <td>Metaphor: ReFantazio</td>\n",
       "      <td>role-playing game</td>\n",
       "      <td>AAA</td>\n",
       "      <td>Asia</td>\n",
       "      <td>70.0</td>\n",
       "      <td>552.0</td>\n",
       "      <td>85961.0</td>\n",
       "      <td>89.0</td>\n",
       "      <td></td>\n",
       "      <td>False</td>\n",
       "    </tr>\n",
       "    <tr>\n",
       "      <th>14</th>\n",
       "      <td>Persona 3 Reload</td>\n",
       "      <td>role-playing game</td>\n",
       "      <td>AA</td>\n",
       "      <td>Asia</td>\n",
       "      <td>70.0</td>\n",
       "      <td>713.0</td>\n",
       "      <td>45002.0</td>\n",
       "      <td>92.0</td>\n",
       "      <td></td>\n",
       "      <td>False</td>\n",
       "    </tr>\n",
       "    <tr>\n",
       "      <th>15</th>\n",
       "      <td>Tekken 8</td>\n",
       "      <td>figthing</td>\n",
       "      <td>AAA</td>\n",
       "      <td>Asia</td>\n",
       "      <td>70.0</td>\n",
       "      <td>880.0</td>\n",
       "      <td>49997.0</td>\n",
       "      <td>67.0</td>\n",
       "      <td></td>\n",
       "      <td>False</td>\n",
       "    </tr>\n",
       "    <tr>\n",
       "      <th>16</th>\n",
       "      <td>Dragon Ball: Sparkling! Zero</td>\n",
       "      <td>fighting</td>\n",
       "      <td>AAA</td>\n",
       "      <td>Asia</td>\n",
       "      <td>70.0</td>\n",
       "      <td>1462.0</td>\n",
       "      <td>122554.0</td>\n",
       "      <td>89.0</td>\n",
       "      <td></td>\n",
       "      <td>False</td>\n",
       "    </tr>\n",
       "    <tr>\n",
       "      <th>17</th>\n",
       "      <td>Dragon's Dogma 2</td>\n",
       "      <td>role-playing game</td>\n",
       "      <td>AAA</td>\n",
       "      <td>Asia</td>\n",
       "      <td>65.0</td>\n",
       "      <td>19777.0</td>\n",
       "      <td>228585.0</td>\n",
       "      <td>60.0</td>\n",
       "      <td></td>\n",
       "      <td>False</td>\n",
       "    </tr>\n",
       "    <tr>\n",
       "      <th>18</th>\n",
       "      <td>The Plucky Squire</td>\n",
       "      <td>action-adventure</td>\n",
       "      <td>indie</td>\n",
       "      <td>Australia</td>\n",
       "      <td>30.0</td>\n",
       "      <td>49.0</td>\n",
       "      <td>1792.0</td>\n",
       "      <td>81.0</td>\n",
       "      <td></td>\n",
       "      <td>False</td>\n",
       "    </tr>\n",
       "    <tr>\n",
       "      <th>19</th>\n",
       "      <td>Bloodstrike</td>\n",
       "      <td>pvp shooter</td>\n",
       "      <td>indie</td>\n",
       "      <td>Cina</td>\n",
       "      <td>0.0</td>\n",
       "      <td>123.0</td>\n",
       "      <td>3135.0</td>\n",
       "      <td>79.0</td>\n",
       "      <td>24 novembre</td>\n",
       "      <td>True</td>\n",
       "    </tr>\n",
       "    <tr>\n",
       "      <th>20</th>\n",
       "      <td>Strinova</td>\n",
       "      <td>pvp shooter</td>\n",
       "      <td>indie</td>\n",
       "      <td>Cina</td>\n",
       "      <td>0.0</td>\n",
       "      <td>497.0</td>\n",
       "      <td>38043.0</td>\n",
       "      <td>75.0</td>\n",
       "      <td>21 novembre</td>\n",
       "      <td>True</td>\n",
       "    </tr>\n",
       "    <tr>\n",
       "      <th>21</th>\n",
       "      <td>Black Myth: Wukong</td>\n",
       "      <td>action-adventure</td>\n",
       "      <td>AAA</td>\n",
       "      <td>Cina</td>\n",
       "      <td>60.0</td>\n",
       "      <td>29922.0</td>\n",
       "      <td>2415714.0</td>\n",
       "      <td>96.0</td>\n",
       "      <td></td>\n",
       "      <td>False</td>\n",
       "    </tr>\n",
       "    <tr>\n",
       "      <th>22</th>\n",
       "      <td>Marvel Rivals</td>\n",
       "      <td>pvp shooter</td>\n",
       "      <td>AA</td>\n",
       "      <td>Cina</td>\n",
       "      <td>0.0</td>\n",
       "      <td>0.0</td>\n",
       "      <td>0.0</td>\n",
       "      <td>0.0</td>\n",
       "      <td>6 dicembre</td>\n",
       "      <td>True</td>\n",
       "    </tr>\n",
       "    <tr>\n",
       "      <th>23</th>\n",
       "      <td>Star Wars Outlaws</td>\n",
       "      <td>action-adventure</td>\n",
       "      <td>AAA</td>\n",
       "      <td>Europa</td>\n",
       "      <td>70.0</td>\n",
       "      <td>28.0</td>\n",
       "      <td>2492.0</td>\n",
       "      <td>67.0</td>\n",
       "      <td></td>\n",
       "      <td>False</td>\n",
       "    </tr>\n",
       "    <tr>\n",
       "      <th>24</th>\n",
       "      <td>Skull and Bones</td>\n",
       "      <td>mmo</td>\n",
       "      <td>AAA</td>\n",
       "      <td>Europa</td>\n",
       "      <td>60.0</td>\n",
       "      <td>35.0</td>\n",
       "      <td>2615.0</td>\n",
       "      <td>65.0</td>\n",
       "      <td></td>\n",
       "      <td>False</td>\n",
       "    </tr>\n",
       "    <tr>\n",
       "      <th>25</th>\n",
       "      <td>Prince of Persia: The Lost Crown</td>\n",
       "      <td>action-adventure</td>\n",
       "      <td>AA</td>\n",
       "      <td>Europa</td>\n",
       "      <td>40.0</td>\n",
       "      <td>45.0</td>\n",
       "      <td>1446.0</td>\n",
       "      <td>81.0</td>\n",
       "      <td></td>\n",
       "      <td>False</td>\n",
       "    </tr>\n",
       "    <tr>\n",
       "      <th>26</th>\n",
       "      <td>Neva</td>\n",
       "      <td>platform</td>\n",
       "      <td>indie</td>\n",
       "      <td>Europa</td>\n",
       "      <td>20.0</td>\n",
       "      <td>69.0</td>\n",
       "      <td>1245.0</td>\n",
       "      <td>91.0</td>\n",
       "      <td></td>\n",
       "      <td>False</td>\n",
       "    </tr>\n",
       "    <tr>\n",
       "      <th>27</th>\n",
       "      <td>Goat Simulator 3</td>\n",
       "      <td>sandbox</td>\n",
       "      <td>indie</td>\n",
       "      <td>Europa</td>\n",
       "      <td>30.0</td>\n",
       "      <td>174.0</td>\n",
       "      <td>2590.0</td>\n",
       "      <td>94.0</td>\n",
       "      <td></td>\n",
       "      <td>False</td>\n",
       "    </tr>\n",
       "    <tr>\n",
       "      <th>28</th>\n",
       "      <td>F1 24</td>\n",
       "      <td>sport</td>\n",
       "      <td>AA</td>\n",
       "      <td>Europa</td>\n",
       "      <td>70.0</td>\n",
       "      <td>233.0</td>\n",
       "      <td>11925.0</td>\n",
       "      <td>66.0</td>\n",
       "      <td></td>\n",
       "      <td>False</td>\n",
       "    </tr>\n",
       "    <tr>\n",
       "      <th>29</th>\n",
       "      <td>Suicide Squad: Kill the Justice League</td>\n",
       "      <td>pve shooter</td>\n",
       "      <td>AAA</td>\n",
       "      <td>Europa</td>\n",
       "      <td>70.0</td>\n",
       "      <td>250.0</td>\n",
       "      <td>13459.0</td>\n",
       "      <td>67.0</td>\n",
       "      <td></td>\n",
       "      <td>False</td>\n",
       "    </tr>\n",
       "    <tr>\n",
       "      <th>30</th>\n",
       "      <td>Farming Simulator 25</td>\n",
       "      <td>simulatore</td>\n",
       "      <td>AA</td>\n",
       "      <td>Europa</td>\n",
       "      <td>50.0</td>\n",
       "      <td>448.0</td>\n",
       "      <td>135970.0</td>\n",
       "      <td>75.0</td>\n",
       "      <td></td>\n",
       "      <td>False</td>\n",
       "    </tr>\n",
       "    <tr>\n",
       "      <th>31</th>\n",
       "      <td>Senua's Saga: Hellblade II</td>\n",
       "      <td>action-adventure</td>\n",
       "      <td>AA</td>\n",
       "      <td>Europa</td>\n",
       "      <td>50.0</td>\n",
       "      <td>449.0</td>\n",
       "      <td>3982.0</td>\n",
       "      <td>85.0</td>\n",
       "      <td></td>\n",
       "      <td>False</td>\n",
       "    </tr>\n",
       "    <tr>\n",
       "      <th>32</th>\n",
       "      <td>Frostpunk 2</td>\n",
       "      <td>strategia</td>\n",
       "      <td>indie</td>\n",
       "      <td>Europa</td>\n",
       "      <td>45.0</td>\n",
       "      <td>466.0</td>\n",
       "      <td>35522.0</td>\n",
       "      <td>73.0</td>\n",
       "      <td></td>\n",
       "      <td>False</td>\n",
       "    </tr>\n",
       "    <tr>\n",
       "      <th>33</th>\n",
       "      <td>Silent Hill 2</td>\n",
       "      <td>horror</td>\n",
       "      <td>AAA</td>\n",
       "      <td>Europa</td>\n",
       "      <td>70.0</td>\n",
       "      <td>475.0</td>\n",
       "      <td>23676.0</td>\n",
       "      <td>93.0</td>\n",
       "      <td></td>\n",
       "      <td>False</td>\n",
       "    </tr>\n",
       "    <tr>\n",
       "      <th>34</th>\n",
       "      <td>S.T.A.L.K.E.R 2: Hearth of Chornobyl</td>\n",
       "      <td>shooter</td>\n",
       "      <td>AAA</td>\n",
       "      <td>Europa</td>\n",
       "      <td>60.0</td>\n",
       "      <td>1133.0</td>\n",
       "      <td>121335.0</td>\n",
       "      <td>78.0</td>\n",
       "      <td></td>\n",
       "      <td>False</td>\n",
       "    </tr>\n",
       "    <tr>\n",
       "      <th>35</th>\n",
       "      <td>Manor Lords</td>\n",
       "      <td>strategia</td>\n",
       "      <td>indie</td>\n",
       "      <td>Europa</td>\n",
       "      <td>40.0</td>\n",
       "      <td>2342.0</td>\n",
       "      <td>173178.0</td>\n",
       "      <td>85.0</td>\n",
       "      <td></td>\n",
       "      <td>False</td>\n",
       "    </tr>\n",
       "    <tr>\n",
       "      <th>36</th>\n",
       "      <td>V Rising</td>\n",
       "      <td>survival</td>\n",
       "      <td>indie</td>\n",
       "      <td>Europa</td>\n",
       "      <td>35.0</td>\n",
       "      <td>4982.0</td>\n",
       "      <td>132724.0</td>\n",
       "      <td>87.0</td>\n",
       "      <td></td>\n",
       "      <td>False</td>\n",
       "    </tr>\n",
       "    <tr>\n",
       "      <th>37</th>\n",
       "      <td>Helldivers II</td>\n",
       "      <td>pve shooter</td>\n",
       "      <td>AAA</td>\n",
       "      <td>Europa</td>\n",
       "      <td>40.0</td>\n",
       "      <td>19182.0</td>\n",
       "      <td>458709.0</td>\n",
       "      <td>73.0</td>\n",
       "      <td></td>\n",
       "      <td>False</td>\n",
       "    </tr>\n",
       "  </tbody>\n",
       "</table>\n",
       "</div>"
      ],
      "text/plain": [
       "                                      name              genre production  \\\n",
       "0                                  Concord        pvp shooter        AAA   \n",
       "1         Life Is Strange: Double Exposure  graphic adventure         AA   \n",
       "2                                 WWE 2K24              sport         AA   \n",
       "3                                 NBA 2k25              sport        AAA   \n",
       "4                              Animal Well           platform      indie   \n",
       "5                            Pacific Drive           survival      indie   \n",
       "6                Dragon Age: The Veilguard  role-playing game        AAA   \n",
       "7                                  Balatro     gioco di carte      indie   \n",
       "8         Warhammer 40,000: Space Marine 2        pve shooter        AAA   \n",
       "9                Call of Duty: Black Ops 6        pvp shooter        AAA   \n",
       "10                                Deadlock        pvp shooter         AA   \n",
       "11                           Cat Quest III   action-adventure      indie   \n",
       "12          Like a Dragon: Infinite Wealth  role-playing game        AAA   \n",
       "13                    Metaphor: ReFantazio  role-playing game        AAA   \n",
       "14                        Persona 3 Reload  role-playing game         AA   \n",
       "15                                Tekken 8           figthing        AAA   \n",
       "16            Dragon Ball: Sparkling! Zero           fighting        AAA   \n",
       "17                        Dragon's Dogma 2  role-playing game        AAA   \n",
       "18                       The Plucky Squire   action-adventure      indie   \n",
       "19                             Bloodstrike        pvp shooter      indie   \n",
       "20                                Strinova        pvp shooter      indie   \n",
       "21                      Black Myth: Wukong   action-adventure        AAA   \n",
       "22                           Marvel Rivals        pvp shooter         AA   \n",
       "23                       Star Wars Outlaws   action-adventure        AAA   \n",
       "24                         Skull and Bones                mmo        AAA   \n",
       "25        Prince of Persia: The Lost Crown   action-adventure         AA   \n",
       "26                                    Neva           platform      indie   \n",
       "27                        Goat Simulator 3            sandbox      indie   \n",
       "28                                   F1 24              sport         AA   \n",
       "29  Suicide Squad: Kill the Justice League        pve shooter        AAA   \n",
       "30                    Farming Simulator 25         simulatore         AA   \n",
       "31              Senua's Saga: Hellblade II   action-adventure         AA   \n",
       "32                             Frostpunk 2          strategia      indie   \n",
       "33                           Silent Hill 2             horror        AAA   \n",
       "34    S.T.A.L.K.E.R 2: Hearth of Chornobyl            shooter        AAA   \n",
       "35                             Manor Lords          strategia      indie   \n",
       "36                                V Rising           survival      indie   \n",
       "37                           Helldivers II        pve shooter        AAA   \n",
       "\n",
       "   from_where  price_in_euro  sales_k  max_players  reviews         date  \\\n",
       "0     America           40.0     16.0        697.0     66.0    23 agosto   \n",
       "1     America           50.0    104.0       8524.0     66.0                \n",
       "2     America           60.0    187.0       8789.0     71.0                \n",
       "3     America           70.0    354.0      40856.0     56.0                \n",
       "4     America           25.0    372.0       8133.0     93.0                \n",
       "5     America           30.0    502.0      18507.0     81.0                \n",
       "6     America           60.0    946.0      89418.0     70.0                \n",
       "7     America           14.0   1862.0      37977.0     96.0                \n",
       "8     America           60.0   3565.0     225690.0     80.0                \n",
       "9     America           80.0  15552.0     315334.0     57.0   25 ottobre   \n",
       "10    America            0.0      0.0     171490.0      0.0  2 settembre   \n",
       "11       Asia           20.0     73.0       2603.0     90.0                \n",
       "12       Asia           70.0    434.0      46161.0     89.0                \n",
       "13       Asia           70.0    552.0      85961.0     89.0                \n",
       "14       Asia           70.0    713.0      45002.0     92.0                \n",
       "15       Asia           70.0    880.0      49997.0     67.0                \n",
       "16       Asia           70.0   1462.0     122554.0     89.0                \n",
       "17       Asia           65.0  19777.0     228585.0     60.0                \n",
       "18  Australia           30.0     49.0       1792.0     81.0                \n",
       "19       Cina            0.0    123.0       3135.0     79.0  24 novembre   \n",
       "20       Cina            0.0    497.0      38043.0     75.0  21 novembre   \n",
       "21       Cina           60.0  29922.0    2415714.0     96.0                \n",
       "22       Cina            0.0      0.0          0.0      0.0   6 dicembre   \n",
       "23     Europa           70.0     28.0       2492.0     67.0                \n",
       "24     Europa           60.0     35.0       2615.0     65.0                \n",
       "25     Europa           40.0     45.0       1446.0     81.0                \n",
       "26     Europa           20.0     69.0       1245.0     91.0                \n",
       "27     Europa           30.0    174.0       2590.0     94.0                \n",
       "28     Europa           70.0    233.0      11925.0     66.0                \n",
       "29     Europa           70.0    250.0      13459.0     67.0                \n",
       "30     Europa           50.0    448.0     135970.0     75.0                \n",
       "31     Europa           50.0    449.0       3982.0     85.0                \n",
       "32     Europa           45.0    466.0      35522.0     73.0                \n",
       "33     Europa           70.0    475.0      23676.0     93.0                \n",
       "34     Europa           60.0   1133.0     121335.0     78.0                \n",
       "35     Europa           40.0   2342.0     173178.0     85.0                \n",
       "36     Europa           35.0   4982.0     132724.0     87.0                \n",
       "37     Europa           40.0  19182.0     458709.0     73.0                \n",
       "\n",
       "    comparing_with_concord  \n",
       "0                    False  \n",
       "1                    False  \n",
       "2                    False  \n",
       "3                    False  \n",
       "4                    False  \n",
       "5                    False  \n",
       "6                    False  \n",
       "7                    False  \n",
       "8                    False  \n",
       "9                    False  \n",
       "10                    True  \n",
       "11                   False  \n",
       "12                   False  \n",
       "13                   False  \n",
       "14                   False  \n",
       "15                   False  \n",
       "16                   False  \n",
       "17                   False  \n",
       "18                   False  \n",
       "19                    True  \n",
       "20                    True  \n",
       "21                   False  \n",
       "22                    True  \n",
       "23                   False  \n",
       "24                   False  \n",
       "25                   False  \n",
       "26                   False  \n",
       "27                   False  \n",
       "28                   False  \n",
       "29                   False  \n",
       "30                   False  \n",
       "31                   False  \n",
       "32                   False  \n",
       "33                   False  \n",
       "34                   False  \n",
       "35                   False  \n",
       "36                   False  \n",
       "37                   False  "
      ]
     },
     "execution_count": 7,
     "metadata": {},
     "output_type": "execute_result"
    }
   ],
   "source": [
    "games"
   ]
  },
  {
   "cell_type": "code",
   "execution_count": 8,
   "id": "d9f0edec-9e4f-4ff8-828d-dc7cc362a5b6",
   "metadata": {},
   "outputs": [],
   "source": [
    "sales_aaa_aa = games.query('production == \"AA\" or production == \"AAA\"')"
   ]
  },
  {
   "cell_type": "markdown",
   "id": "b8fade1a-9c6a-4f6b-b593-45d30e5baa06",
   "metadata": {},
   "source": [
    "## Stima vendite AAA 2024"
   ]
  },
  {
   "cell_type": "code",
   "execution_count": 9,
   "id": "9b73cad6-6e68-46f1-91cc-c0ab3b3ea456",
   "metadata": {},
   "outputs": [
    {
     "data": {
      "text/html": [
       "<div>\n",
       "<style scoped>\n",
       "    .dataframe tbody tr th:only-of-type {\n",
       "        vertical-align: middle;\n",
       "    }\n",
       "\n",
       "    .dataframe tbody tr th {\n",
       "        vertical-align: top;\n",
       "    }\n",
       "\n",
       "    .dataframe thead th {\n",
       "        text-align: right;\n",
       "    }\n",
       "</style>\n",
       "<table border=\"1\" class=\"dataframe\">\n",
       "  <thead>\n",
       "    <tr style=\"text-align: right;\">\n",
       "      <th></th>\n",
       "      <th>name</th>\n",
       "      <th>genre</th>\n",
       "      <th>production</th>\n",
       "      <th>from_where</th>\n",
       "      <th>price_in_euro</th>\n",
       "      <th>sales_k</th>\n",
       "      <th>max_players</th>\n",
       "      <th>reviews</th>\n",
       "      <th>date</th>\n",
       "      <th>comparing_with_concord</th>\n",
       "    </tr>\n",
       "  </thead>\n",
       "  <tbody>\n",
       "    <tr>\n",
       "      <th>0</th>\n",
       "      <td>Concord</td>\n",
       "      <td>pvp shooter</td>\n",
       "      <td>AAA</td>\n",
       "      <td>America</td>\n",
       "      <td>40.0</td>\n",
       "      <td>16.0</td>\n",
       "      <td>697.0</td>\n",
       "      <td>66.0</td>\n",
       "      <td>23 agosto</td>\n",
       "      <td>False</td>\n",
       "    </tr>\n",
       "    <tr>\n",
       "      <th>3</th>\n",
       "      <td>NBA 2k25</td>\n",
       "      <td>sport</td>\n",
       "      <td>AAA</td>\n",
       "      <td>America</td>\n",
       "      <td>70.0</td>\n",
       "      <td>354.0</td>\n",
       "      <td>40856.0</td>\n",
       "      <td>56.0</td>\n",
       "      <td></td>\n",
       "      <td>False</td>\n",
       "    </tr>\n",
       "    <tr>\n",
       "      <th>6</th>\n",
       "      <td>Dragon Age: The Veilguard</td>\n",
       "      <td>role-playing game</td>\n",
       "      <td>AAA</td>\n",
       "      <td>America</td>\n",
       "      <td>60.0</td>\n",
       "      <td>946.0</td>\n",
       "      <td>89418.0</td>\n",
       "      <td>70.0</td>\n",
       "      <td></td>\n",
       "      <td>False</td>\n",
       "    </tr>\n",
       "    <tr>\n",
       "      <th>8</th>\n",
       "      <td>Warhammer 40,000: Space Marine 2</td>\n",
       "      <td>pve shooter</td>\n",
       "      <td>AAA</td>\n",
       "      <td>America</td>\n",
       "      <td>60.0</td>\n",
       "      <td>3565.0</td>\n",
       "      <td>225690.0</td>\n",
       "      <td>80.0</td>\n",
       "      <td></td>\n",
       "      <td>False</td>\n",
       "    </tr>\n",
       "    <tr>\n",
       "      <th>9</th>\n",
       "      <td>Call of Duty: Black Ops 6</td>\n",
       "      <td>pvp shooter</td>\n",
       "      <td>AAA</td>\n",
       "      <td>America</td>\n",
       "      <td>80.0</td>\n",
       "      <td>15552.0</td>\n",
       "      <td>315334.0</td>\n",
       "      <td>57.0</td>\n",
       "      <td>25 ottobre</td>\n",
       "      <td>False</td>\n",
       "    </tr>\n",
       "    <tr>\n",
       "      <th>12</th>\n",
       "      <td>Like a Dragon: Infinite Wealth</td>\n",
       "      <td>role-playing game</td>\n",
       "      <td>AAA</td>\n",
       "      <td>Asia</td>\n",
       "      <td>70.0</td>\n",
       "      <td>434.0</td>\n",
       "      <td>46161.0</td>\n",
       "      <td>89.0</td>\n",
       "      <td></td>\n",
       "      <td>False</td>\n",
       "    </tr>\n",
       "    <tr>\n",
       "      <th>13</th>\n",
       "      <td>Metaphor: ReFantazio</td>\n",
       "      <td>role-playing game</td>\n",
       "      <td>AAA</td>\n",
       "      <td>Asia</td>\n",
       "      <td>70.0</td>\n",
       "      <td>552.0</td>\n",
       "      <td>85961.0</td>\n",
       "      <td>89.0</td>\n",
       "      <td></td>\n",
       "      <td>False</td>\n",
       "    </tr>\n",
       "    <tr>\n",
       "      <th>15</th>\n",
       "      <td>Tekken 8</td>\n",
       "      <td>figthing</td>\n",
       "      <td>AAA</td>\n",
       "      <td>Asia</td>\n",
       "      <td>70.0</td>\n",
       "      <td>880.0</td>\n",
       "      <td>49997.0</td>\n",
       "      <td>67.0</td>\n",
       "      <td></td>\n",
       "      <td>False</td>\n",
       "    </tr>\n",
       "    <tr>\n",
       "      <th>16</th>\n",
       "      <td>Dragon Ball: Sparkling! Zero</td>\n",
       "      <td>fighting</td>\n",
       "      <td>AAA</td>\n",
       "      <td>Asia</td>\n",
       "      <td>70.0</td>\n",
       "      <td>1462.0</td>\n",
       "      <td>122554.0</td>\n",
       "      <td>89.0</td>\n",
       "      <td></td>\n",
       "      <td>False</td>\n",
       "    </tr>\n",
       "    <tr>\n",
       "      <th>17</th>\n",
       "      <td>Dragon's Dogma 2</td>\n",
       "      <td>role-playing game</td>\n",
       "      <td>AAA</td>\n",
       "      <td>Asia</td>\n",
       "      <td>65.0</td>\n",
       "      <td>19777.0</td>\n",
       "      <td>228585.0</td>\n",
       "      <td>60.0</td>\n",
       "      <td></td>\n",
       "      <td>False</td>\n",
       "    </tr>\n",
       "    <tr>\n",
       "      <th>21</th>\n",
       "      <td>Black Myth: Wukong</td>\n",
       "      <td>action-adventure</td>\n",
       "      <td>AAA</td>\n",
       "      <td>Cina</td>\n",
       "      <td>60.0</td>\n",
       "      <td>29922.0</td>\n",
       "      <td>2415714.0</td>\n",
       "      <td>96.0</td>\n",
       "      <td></td>\n",
       "      <td>False</td>\n",
       "    </tr>\n",
       "    <tr>\n",
       "      <th>23</th>\n",
       "      <td>Star Wars Outlaws</td>\n",
       "      <td>action-adventure</td>\n",
       "      <td>AAA</td>\n",
       "      <td>Europa</td>\n",
       "      <td>70.0</td>\n",
       "      <td>28.0</td>\n",
       "      <td>2492.0</td>\n",
       "      <td>67.0</td>\n",
       "      <td></td>\n",
       "      <td>False</td>\n",
       "    </tr>\n",
       "    <tr>\n",
       "      <th>24</th>\n",
       "      <td>Skull and Bones</td>\n",
       "      <td>mmo</td>\n",
       "      <td>AAA</td>\n",
       "      <td>Europa</td>\n",
       "      <td>60.0</td>\n",
       "      <td>35.0</td>\n",
       "      <td>2615.0</td>\n",
       "      <td>65.0</td>\n",
       "      <td></td>\n",
       "      <td>False</td>\n",
       "    </tr>\n",
       "    <tr>\n",
       "      <th>29</th>\n",
       "      <td>Suicide Squad: Kill the Justice League</td>\n",
       "      <td>pve shooter</td>\n",
       "      <td>AAA</td>\n",
       "      <td>Europa</td>\n",
       "      <td>70.0</td>\n",
       "      <td>250.0</td>\n",
       "      <td>13459.0</td>\n",
       "      <td>67.0</td>\n",
       "      <td></td>\n",
       "      <td>False</td>\n",
       "    </tr>\n",
       "    <tr>\n",
       "      <th>33</th>\n",
       "      <td>Silent Hill 2</td>\n",
       "      <td>horror</td>\n",
       "      <td>AAA</td>\n",
       "      <td>Europa</td>\n",
       "      <td>70.0</td>\n",
       "      <td>475.0</td>\n",
       "      <td>23676.0</td>\n",
       "      <td>93.0</td>\n",
       "      <td></td>\n",
       "      <td>False</td>\n",
       "    </tr>\n",
       "    <tr>\n",
       "      <th>34</th>\n",
       "      <td>S.T.A.L.K.E.R 2: Hearth of Chornobyl</td>\n",
       "      <td>shooter</td>\n",
       "      <td>AAA</td>\n",
       "      <td>Europa</td>\n",
       "      <td>60.0</td>\n",
       "      <td>1133.0</td>\n",
       "      <td>121335.0</td>\n",
       "      <td>78.0</td>\n",
       "      <td></td>\n",
       "      <td>False</td>\n",
       "    </tr>\n",
       "    <tr>\n",
       "      <th>37</th>\n",
       "      <td>Helldivers II</td>\n",
       "      <td>pve shooter</td>\n",
       "      <td>AAA</td>\n",
       "      <td>Europa</td>\n",
       "      <td>40.0</td>\n",
       "      <td>19182.0</td>\n",
       "      <td>458709.0</td>\n",
       "      <td>73.0</td>\n",
       "      <td></td>\n",
       "      <td>False</td>\n",
       "    </tr>\n",
       "  </tbody>\n",
       "</table>\n",
       "</div>"
      ],
      "text/plain": [
       "                                      name              genre production  \\\n",
       "0                                  Concord        pvp shooter        AAA   \n",
       "3                                 NBA 2k25              sport        AAA   \n",
       "6                Dragon Age: The Veilguard  role-playing game        AAA   \n",
       "8         Warhammer 40,000: Space Marine 2        pve shooter        AAA   \n",
       "9                Call of Duty: Black Ops 6        pvp shooter        AAA   \n",
       "12          Like a Dragon: Infinite Wealth  role-playing game        AAA   \n",
       "13                    Metaphor: ReFantazio  role-playing game        AAA   \n",
       "15                                Tekken 8           figthing        AAA   \n",
       "16            Dragon Ball: Sparkling! Zero           fighting        AAA   \n",
       "17                        Dragon's Dogma 2  role-playing game        AAA   \n",
       "21                      Black Myth: Wukong   action-adventure        AAA   \n",
       "23                       Star Wars Outlaws   action-adventure        AAA   \n",
       "24                         Skull and Bones                mmo        AAA   \n",
       "29  Suicide Squad: Kill the Justice League        pve shooter        AAA   \n",
       "33                           Silent Hill 2             horror        AAA   \n",
       "34    S.T.A.L.K.E.R 2: Hearth of Chornobyl            shooter        AAA   \n",
       "37                           Helldivers II        pve shooter        AAA   \n",
       "\n",
       "   from_where  price_in_euro  sales_k  max_players  reviews        date  \\\n",
       "0     America           40.0     16.0        697.0     66.0   23 agosto   \n",
       "3     America           70.0    354.0      40856.0     56.0               \n",
       "6     America           60.0    946.0      89418.0     70.0               \n",
       "8     America           60.0   3565.0     225690.0     80.0               \n",
       "9     America           80.0  15552.0     315334.0     57.0  25 ottobre   \n",
       "12       Asia           70.0    434.0      46161.0     89.0               \n",
       "13       Asia           70.0    552.0      85961.0     89.0               \n",
       "15       Asia           70.0    880.0      49997.0     67.0               \n",
       "16       Asia           70.0   1462.0     122554.0     89.0               \n",
       "17       Asia           65.0  19777.0     228585.0     60.0               \n",
       "21       Cina           60.0  29922.0    2415714.0     96.0               \n",
       "23     Europa           70.0     28.0       2492.0     67.0               \n",
       "24     Europa           60.0     35.0       2615.0     65.0               \n",
       "29     Europa           70.0    250.0      13459.0     67.0               \n",
       "33     Europa           70.0    475.0      23676.0     93.0               \n",
       "34     Europa           60.0   1133.0     121335.0     78.0               \n",
       "37     Europa           40.0  19182.0     458709.0     73.0               \n",
       "\n",
       "    comparing_with_concord  \n",
       "0                    False  \n",
       "3                    False  \n",
       "6                    False  \n",
       "8                    False  \n",
       "9                    False  \n",
       "12                   False  \n",
       "13                   False  \n",
       "15                   False  \n",
       "16                   False  \n",
       "17                   False  \n",
       "21                   False  \n",
       "23                   False  \n",
       "24                   False  \n",
       "29                   False  \n",
       "33                   False  \n",
       "34                   False  \n",
       "37                   False  "
      ]
     },
     "execution_count": 9,
     "metadata": {},
     "output_type": "execute_result"
    }
   ],
   "source": [
    "sales_aaa = sales_aaa_aa.query('production == \"AAA\" and sales_k > 0')\n",
    "\n",
    "sales_aaa"
   ]
  },
  {
   "cell_type": "code",
   "execution_count": 67,
   "id": "dad5f917-5a07-49d6-bfe9-550a6db6d78e",
   "metadata": {},
   "outputs": [
    {
     "name": "stdout",
     "output_type": "stream",
     "text": [
      "0.8\n",
      "0.8\n",
      "0.8\n",
      "0.8\n",
      "0.8\n",
      "0.8\n",
      "0.8\n",
      "0.8\n",
      "0.8\n",
      "0.8\n",
      "0.8\n",
      "0.8\n",
      "0.8\n",
      "0.8\n",
      "0.8\n",
      "0.8\n",
      "0.8\n"
     ]
    },
    {
     "data": {
      "image/png": "[encoded data removed]",
      "text/plain": [
       "<Figure size 1200x600 with 1 Axes>"
      ]
     },
     "metadata": {},
     "output_type": "display_data"
    }
   ],
   "source": [
    "sales_aaa = sales_aaa.sort_values(by=['sales_k'])\n",
    "\n",
    "fig, ax = plt.subplots(figsize=(12, 6))\n",
    "for spine in plt.gca().spines.values(): spine.set_visible(False)\n",
    "\n",
    "bars = plt.barh(sales_aaa['name'], sales_aaa['sales_k'], color='skyblue')\n",
    "\n",
    "for bar in bars:\n",
    "    print(bar.get_height())\n",
    "\n",
    "ax.set_xlim(0, 5000)\n",
    "\n",
    "rect = ax.patch\n",
    "rect.set_alpha(0)\n",
    "\n",
    "plt.tight_layout()\n",
    "ax.set_axisbelow(True)\n",
    "ax.tick_params(axis='x', colors='#cccccc')\n",
    "ax.xaxis.grid(color='#cccccc')\n",
    "\n",
    "plt.savefig(build_chart_path(\"sales_aaa_2024\"), format=\"svg\")"
   ]
  },
  {
   "cell_type": "code",
   "execution_count": 68,
   "id": "f839174c-1d66-4b67-9a4d-61015b151272",
   "metadata": {},
   "outputs": [
    {
     "data": {
      "image/png": "[encoded data removed]",
      "text/plain": [
       "<Figure size 1200x600 with 1 Axes>"
      ]
     },
     "metadata": {},
     "output_type": "display_data"
    }
   ],
   "source": [
    "fig, ax = plt.subplots(figsize=(12, 6))\n",
    "for spine in plt.gca().spines.values(): spine.set_visible(False)\n",
    "\n",
    "plt.barh(sales_aaa['name'].tail(4), sales_aaa['sales_k'].tail(4), color='skyblue', height=0.8)\n",
    "ax.set_xlim(15000)\n",
    "\n",
    "rect = ax.patch\n",
    "rect.set_alpha(0)\n",
    "plt.tight_layout()\n",
    "ax.set_axisbelow(True)\n",
    "ax.tick_params(axis='x', colors='#cccccc')\n",
    "ax.xaxis.grid(color='#cccccc')\n",
    "\n",
    "plt.savefig(build_chart_path(\"zoomed_sales_aaa_2024\"), format=\"svg\")"
   ]
  },
  {
   "cell_type": "markdown",
   "id": "44309d87-b116-43e6-88f3-4f1667bac330",
   "metadata": {},
   "source": [
    "#### Note:\n",
    "aggiungere a mano un + dopo il 5000 della scala;\n",
    "segnare a mano le vendite degli ultimi 3: 35, 28, 16\n",
    "marcare i primi 4 di colore diverso per far capire che superano la scala\n",
    "\n",
    "##### Problema:\n",
    "in entrambi i grafici è difficile contare il numero di vendite.\n",
    "##### Suggerimento:\n",
    "aggiungere linee verticali sugli assi"
   ]
  },
  {
   "cell_type": "markdown",
   "id": "6d7297db-8fc2-4ed1-a5cb-ae5de8bb650f",
   "metadata": {},
   "source": [
    "## Vendite giochi per continente di origine"
   ]
  },
  {
   "cell_type": "code",
   "execution_count": 15,
   "id": "7ac37ef0-6908-4f84-9285-9590de969276",
   "metadata": {},
   "outputs": [
    {
     "data": {
      "image/png": "[encoded data removed]",
      "text/plain": [
       "<Figure size 640x480 with 1 Axes>"
      ]
     },
     "metadata": {},
     "output_type": "display_data"
    }
   ],
   "source": [
    "games_to_compare = games.query('comparing_with_concord != 1')\n",
    "agg_by_continent = games_to_compare.groupby(['from_where'])['sales_k'].sum().to_frame().reset_index()\n",
    "\n",
    "fig, ax = plt.subplots()\n",
    "\n",
    "ax.pie(\n",
    "    agg_by_continent['sales_k'],\n",
    "    labels=agg_by_continent['from_where'],\n",
    "    autopct='%1.1f%%',\n",
    "    pctdistance=1.25,\n",
    "    labeldistance=.6,\n",
    "    radius=1\n",
    ")\n",
    "\n",
    "plt.savefig(build_chart_path(\"sales_by_continent_2024\"), format=\"svg\")"
   ]
  },
  {
   "cell_type": "markdown",
   "id": "2c7d4468-fdb0-4683-91c4-006f898d6af6",
   "metadata": {},
   "source": [
    "#### Note\n",
    "\n",
    "Australia è presente, ma la label verrà rimossa nell'SVG. Possiamo mettere una nota a margine"
   ]
  },
  {
   "cell_type": "code",
   "execution_count": 19,
   "id": "9ee86e67-ae5d-46a3-948e-1387173d0653",
   "metadata": {},
   "outputs": [
    {
     "data": {
      "application/vnd.plotly.v1+json": {
       "config": {
        "plotlyServerURL": "https://plot.ly"
       },
       "data": [
        {
         "branchvalues": "total",
         "domain": {
          "x": [
           0,
           1
          ],
          "y": [
           0,
           1
          ]
         },
         "hovertemplate": "<b>%{hovertext}</b><br><br>labels=%{label}<br>sales_k=%{value}<br>parent=%{parent}<br>id=%{id}<extra></extra>",
         "hovertext": [
          "Animal Well",
          "Balatro",
          "Black Myth: Wukong",
          "Call of Duty: Black Ops 6",
          "Cat Quest III",
          "Concord",
          "Dragon Age: The Veilguard",
          "Dragon Ball: Sparkling! Zero",
          "Dragon's Dogma 2",
          "F1 24",
          "Farming Simulator 25",
          "Frostpunk 2",
          "Goat Simulator 3",
          "Helldivers II",
          "Life Is Strange: Double Exposure",
          "Like a Dragon: Infinite Wealth",
          "Manor Lords",
          "Metaphor: ReFantazio",
          "NBA 2k25",
          "Neva",
          "Pacific Drive",
          "Persona 3 Reload",
          "Prince of Persia: The Lost Crown",
          "S.T.A.L.K.E.R 2: Hearth of Chornobyl",
          "Senua's Saga: Hellblade II",
          "Silent Hill 2",
          "Skull and Bones",
          "Star Wars Outlaws",
          "Suicide Squad: Kill the Justice League",
          "Tekken 8",
          "The Plucky Squire",
          "V Rising",
          "WWE 2K24",
          "Warhammer 40,000: Space Marine 2",
          "(?)",
          "(?)",
          "The Plucky Squire",
          "Black Myth: Wukong",
          "(?)"
         ],
         "ids": [
          "America/Animal Well",
          "America/Balatro",
          "Cina/Black Myth: Wukong",
          "America/Call of Duty: Black Ops 6",
          "Asia/Cat Quest III",
          "America/Concord",
          "America/Dragon Age: The Veilguard",
          "Asia/Dragon Ball: Sparkling! Zero",
          "Asia/Dragon's Dogma 2",
          "Europa/F1 24",
          "Europa/Farming Simulator 25",
          "Europa/Frostpunk 2",
          "Europa/Goat Simulator 3",
          "Europa/Helldivers II",
          "America/Life Is Strange: Double Exposure",
          "Asia/Like a Dragon: Infinite Wealth",
          "Europa/Manor Lords",
          "Asia/Metaphor: ReFantazio",
          "America/NBA 2k25",
          "Europa/Neva",
          "America/Pacific Drive",
          "Asia/Persona 3 Reload",
          "Europa/Prince of Persia: The Lost Crown",
          "Europa/S.T.A.L.K.E.R 2: Hearth of Chornobyl",
          "Europa/Senua's Saga: Hellblade II",
          "Europa/Silent Hill 2",
          "Europa/Skull and Bones",
          "Europa/Star Wars Outlaws",
          "Europa/Suicide Squad: Kill the Justice League",
          "Asia/Tekken 8",
          "Australia/The Plucky Squire",
          "Europa/V Rising",
          "America/WWE 2K24",
          "America/Warhammer 40,000: Space Marine 2",
          "America",
          "Asia",
          "Australia",
          "Cina",
          "Europa"
         ],
         "labels": [
          "Animal Well",
          "Balatro",
          "Black Myth: Wukong",
          "Call of Duty: Black Ops 6",
          "Cat Quest III",
          "Concord",
          "Dragon Age: The Veilguard",
          "Dragon Ball: Sparkling! Zero",
          "Dragon's Dogma 2",
          "F1 24",
          "Farming Simulator 25",
          "Frostpunk 2",
          "Goat Simulator 3",
          "Helldivers II",
          "Life Is Strange: Double Exposure",
          "Like a Dragon: Infinite Wealth",
          "Manor Lords",
          "Metaphor: ReFantazio",
          "NBA 2k25",
          "Neva",
          "Pacific Drive",
          "Persona 3 Reload",
          "Prince of Persia: The Lost Crown",
          "S.T.A.L.K.E.R 2: Hearth of Chornobyl",
          "Senua's Saga: Hellblade II",
          "Silent Hill 2",
          "Skull and Bones",
          "Star Wars Outlaws",
          "Suicide Squad: Kill the Justice League",
          "Tekken 8",
          "The Plucky Squire",
          "V Rising",
          "WWE 2K24",
          "Warhammer 40,000: Space Marine 2",
          "America",
          "Asia",
          "Australia",
          "Cina",
          "Europa"
         ],
         "name": "",
         "parents": [
          "America",
          "America",
          "Cina",
          "America",
          "Asia",
          "America",
          "America",
          "Asia",
          "Asia",
          "Europa",
          "Europa",
          "Europa",
          "Europa",
          "Europa",
          "America",
          "Asia",
          "Europa",
          "Asia",
          "America",
          "Europa",
          "America",
          "Asia",
          "Europa",
          "Europa",
          "Europa",
          "Europa",
          "Europa",
          "Europa",
          "Europa",
          "Asia",
          "Australia",
          "Europa",
          "America",
          "America",
          "",
          "",
          "",
          "",
          ""
         ],
         "type": "treemap",
         "values": [
          372,
          1862,
          29922,
          15552,
          73,
          16,
          946,
          1462,
          19777,
          233,
          448,
          466,
          174,
          19182,
          104,
          434,
          2342,
          552,
          354,
          69,
          502,
          713,
          45,
          1133,
          449,
          475,
          35,
          28,
          250,
          880,
          49,
          4982,
          187,
          3565,
          23460,
          23891,
          49,
          29922,
          30311
         ]
        }
       ],
       "layout": {
        "height": 360,
        "legend": {
         "tracegroupgap": 0
        },
        "margin": {
         "t": 60
        },
        "template": {
         "data": {
          "bar": [
           {
            "error_x": {
             "color": "#2a3f5f"
            },
            "error_y": {
             "color": "#2a3f5f"
            },
            "marker": {
             "line": {
              "color": "#E5ECF6",
              "width": 0.5
             },
             "pattern": {
              "fillmode": "overlay",
              "size": 10,
              "solidity": 0.2
             }
            },
            "type": "bar"
           }
          ],
          "barpolar": [
           {
            "marker": {
             "line": {
              "color": "#E5ECF6",
              "width": 0.5
             },
             "pattern": {
              "fillmode": "overlay",
              "size": 10,
              "solidity": 0.2
             }
            },
            "type": "barpolar"
           }
          ],
          "carpet": [
           {
            "aaxis": {
             "endlinecolor": "#2a3f5f",
             "gridcolor": "white",
             "linecolor": "white",
             "minorgridcolor": "white",
             "startlinecolor": "#2a3f5f"
            },
            "baxis": {
             "endlinecolor": "#2a3f5f",
             "gridcolor": "white",
             "linecolor": "white",
             "minorgridcolor": "white",
             "startlinecolor": "#2a3f5f"
            },
            "type": "carpet"
           }
          ],
          "choropleth": [
           {
            "colorbar": {
             "outlinewidth": 0,
             "ticks": ""
            },
            "type": "choropleth"
           }
          ],
          "contour": [
           {
            "colorbar": {
             "outlinewidth": 0,
             "ticks": ""
            },
            "colorscale": [
             [
              0,
              "#0d0887"
             ],
             [
              0.1111111111111111,
              "#46039f"
             ],
             [
              0.2222222222222222,
              "#7201a8"
             ],
             [
              0.3333333333333333,
              "#9c179e"
             ],
             [
              0.4444444444444444,
              "#bd3786"
             ],
             [
              0.5555555555555556,
              "#d8576b"
             ],
             [
              0.6666666666666666,
              "#ed7953"
             ],
             [
              0.7777777777777778,
              "#fb9f3a"
             ],
             [
              0.8888888888888888,
              "#fdca26"
             ],
             [
              1,
              "#f0f921"
             ]
            ],
            "type": "contour"
           }
          ],
          "contourcarpet": [
           {
            "colorbar": {
             "outlinewidth": 0,
             "ticks": ""
            },
            "type": "contourcarpet"
           }
          ],
          "heatmap": [
           {
            "colorbar": {
             "outlinewidth": 0,
             "ticks": ""
            },
            "colorscale": [
             [
              0,
              "#0d0887"
             ],
             [
              0.1111111111111111,
              "#46039f"
             ],
             [
              0.2222222222222222,
              "#7201a8"
             ],
             [
              0.3333333333333333,
              "#9c179e"
             ],
             [
              0.4444444444444444,
              "#bd3786"
             ],
             [
              0.5555555555555556,
              "#d8576b"
             ],
             [
              0.6666666666666666,
              "#ed7953"
             ],
             [
              0.7777777777777778,
              "#fb9f3a"
             ],
             [
              0.8888888888888888,
              "#fdca26"
             ],
             [
              1,
              "#f0f921"
             ]
            ],
            "type": "heatmap"
           }
          ],
          "heatmapgl": [
           {
            "colorbar": {
             "outlinewidth": 0,
             "ticks": ""
            },
            "colorscale": [
             [
              0,
              "#0d0887"
             ],
             [
              0.1111111111111111,
              "#46039f"
             ],
             [
              0.2222222222222222,
              "#7201a8"
             ],
             [
              0.3333333333333333,
              "#9c179e"
             ],
             [
              0.4444444444444444,
              "#bd3786"
             ],
             [
              0.5555555555555556,
              "#d8576b"
             ],
             [
              0.6666666666666666,
              "#ed7953"
             ],
             [
              0.7777777777777778,
              "#fb9f3a"
             ],
             [
              0.8888888888888888,
              "#fdca26"
             ],
             [
              1,
              "#f0f921"
             ]
            ],
            "type": "heatmapgl"
           }
          ],
          "histogram": [
           {
            "marker": {
             "pattern": {
              "fillmode": "overlay",
              "size": 10,
              "solidity": 0.2
             }
            },
            "type": "histogram"
           }
          ],
          "histogram2d": [
           {
            "colorbar": {
             "outlinewidth": 0,
             "ticks": ""
            },
            "colorscale": [
             [
              0,
              "#0d0887"
             ],
             [
              0.1111111111111111,
              "#46039f"
             ],
             [
              0.2222222222222222,
              "#7201a8"
             ],
             [
              0.3333333333333333,
              "#9c179e"
             ],
             [
              0.4444444444444444,
              "#bd3786"
             ],
             [
              0.5555555555555556,
              "#d8576b"
             ],
             [
              0.6666666666666666,
              "#ed7953"
             ],
             [
              0.7777777777777778,
              "#fb9f3a"
             ],
             [
              0.8888888888888888,
              "#fdca26"
             ],
             [
              1,
              "#f0f921"
             ]
            ],
            "type": "histogram2d"
           }
          ],
          "histogram2dcontour": [
           {
            "colorbar": {
             "outlinewidth": 0,
             "ticks": ""
            },
            "colorscale": [
             [
              0,
              "#0d0887"
             ],
             [
              0.1111111111111111,
              "#46039f"
             ],
             [
              0.2222222222222222,
              "#7201a8"
             ],
             [
              0.3333333333333333,
              "#9c179e"
             ],
             [
              0.4444444444444444,
              "#bd3786"
             ],
             [
              0.5555555555555556,
              "#d8576b"
             ],
             [
              0.6666666666666666,
              "#ed7953"
             ],
             [
              0.7777777777777778,
              "#fb9f3a"
             ],
             [
              0.8888888888888888,
              "#fdca26"
             ],
             [
              1,
              "#f0f921"
             ]
            ],
            "type": "histogram2dcontour"
           }
          ],
          "mesh3d": [
           {
            "colorbar": {
             "outlinewidth": 0,
             "ticks": ""
            },
            "type": "mesh3d"
           }
          ],
          "parcoords": [
           {
            "line": {
             "colorbar": {
              "outlinewidth": 0,
              "ticks": ""
             }
            },
            "type": "parcoords"
           }
          ],
          "pie": [
           {
            "automargin": true,
            "type": "pie"
           }
          ],
          "scatter": [
           {
            "fillpattern": {
             "fillmode": "overlay",
             "size": 10,
             "solidity": 0.2
            },
            "type": "scatter"
           }
          ],
          "scatter3d": [
           {
            "line": {
             "colorbar": {
              "outlinewidth": 0,
              "ticks": ""
             }
            },
            "marker": {
             "colorbar": {
              "outlinewidth": 0,
              "ticks": ""
             }
            },
            "type": "scatter3d"
           }
          ],
          "scattercarpet": [
           {
            "marker": {
             "colorbar": {
              "outlinewidth": 0,
              "ticks": ""
             }
            },
            "type": "scattercarpet"
           }
          ],
          "scattergeo": [
           {
            "marker": {
             "colorbar": {
              "outlinewidth": 0,
              "ticks": ""
             }
            },
            "type": "scattergeo"
           }
          ],
          "scattergl": [
           {
            "marker": {
             "colorbar": {
              "outlinewidth": 0,
              "ticks": ""
             }
            },
            "type": "scattergl"
           }
          ],
          "scattermapbox": [
           {
            "marker": {
             "colorbar": {
              "outlinewidth": 0,
              "ticks": ""
             }
            },
            "type": "scattermapbox"
           }
          ],
          "scatterpolar": [
           {
            "marker": {
             "colorbar": {
              "outlinewidth": 0,
              "ticks": ""
             }
            },
            "type": "scatterpolar"
           }
          ],
          "scatterpolargl": [
           {
            "marker": {
             "colorbar": {
              "outlinewidth": 0,
              "ticks": ""
             }
            },
            "type": "scatterpolargl"
           }
          ],
          "scatterternary": [
           {
            "marker": {
             "colorbar": {
              "outlinewidth": 0,
              "ticks": ""
             }
            },
            "type": "scatterternary"
           }
          ],
          "surface": [
           {
            "colorbar": {
             "outlinewidth": 0,
             "ticks": ""
            },
            "colorscale": [
             [
              0,
              "#0d0887"
             ],
             [
              0.1111111111111111,
              "#46039f"
             ],
             [
              0.2222222222222222,
              "#7201a8"
             ],
             [
              0.3333333333333333,
              "#9c179e"
             ],
             [
              0.4444444444444444,
              "#bd3786"
             ],
             [
              0.5555555555555556,
              "#d8576b"
             ],
             [
              0.6666666666666666,
              "#ed7953"
             ],
             [
              0.7777777777777778,
              "#fb9f3a"
             ],
             [
              0.8888888888888888,
              "#fdca26"
             ],
             [
              1,
              "#f0f921"
             ]
            ],
            "type": "surface"
           }
          ],
          "table": [
           {
            "cells": {
             "fill": {
              "color": "#EBF0F8"
             },
             "line": {
              "color": "white"
             }
            },
            "header": {
             "fill": {
              "color": "#C8D4E3"
             },
             "line": {
              "color": "white"
             }
            },
            "type": "table"
           }
          ]
         },
         "layout": {
          "annotationdefaults": {
           "arrowcolor": "#2a3f5f",
           "arrowhead": 0,
           "arrowwidth": 1
          },
          "autotypenumbers": "strict",
          "coloraxis": {
           "colorbar": {
            "outlinewidth": 0,
            "ticks": ""
           }
          },
          "colorscale": {
           "diverging": [
            [
             0,
             "#8e0152"
            ],
            [
             0.1,
             "#c51b7d"
            ],
            [
             0.2,
             "#de77ae"
            ],
            [
             0.3,
             "#f1b6da"
            ],
            [
             0.4,
             "#fde0ef"
            ],
            [
             0.5,
             "#f7f7f7"
            ],
            [
             0.6,
             "#e6f5d0"
            ],
            [
             0.7,
             "#b8e186"
            ],
            [
             0.8,
             "#7fbc41"
            ],
            [
             0.9,
             "#4d9221"
            ],
            [
             1,
             "#276419"
            ]
           ],
           "sequential": [
            [
             0,
             "#0d0887"
            ],
            [
             0.1111111111111111,
             "#46039f"
            ],
            [
             0.2222222222222222,
             "#7201a8"
            ],
            [
             0.3333333333333333,
             "#9c179e"
            ],
            [
             0.4444444444444444,
             "#bd3786"
            ],
            [
             0.5555555555555556,
             "#d8576b"
            ],
            [
             0.6666666666666666,
             "#ed7953"
            ],
            [
             0.7777777777777778,
             "#fb9f3a"
            ],
            [
             0.8888888888888888,
             "#fdca26"
            ],
            [
             1,
             "#f0f921"
            ]
           ],
           "sequentialminus": [
            [
             0,
             "#0d0887"
            ],
            [
             0.1111111111111111,
             "#46039f"
            ],
            [
             0.2222222222222222,
             "#7201a8"
            ],
            [
             0.3333333333333333,
             "#9c179e"
            ],
            [
             0.4444444444444444,
             "#bd3786"
            ],
            [
             0.5555555555555556,
             "#d8576b"
            ],
            [
             0.6666666666666666,
             "#ed7953"
            ],
            [
             0.7777777777777778,
             "#fb9f3a"
            ],
            [
             0.8888888888888888,
             "#fdca26"
            ],
            [
             1,
             "#f0f921"
            ]
           ]
          },
          "colorway": [
           "#636efa",
           "#EF553B",
           "#00cc96",
           "#ab63fa",
           "#FFA15A",
           "#19d3f3",
           "#FF6692",
           "#B6E880",
           "#FF97FF",
           "#FECB52"
          ],
          "font": {
           "color": "#2a3f5f"
          },
          "geo": {
           "bgcolor": "white",
           "lakecolor": "white",
           "landcolor": "#E5ECF6",
           "showlakes": true,
           "showland": true,
           "subunitcolor": "white"
          },
          "hoverlabel": {
           "align": "left"
          },
          "hovermode": "closest",
          "mapbox": {
           "style": "light"
          },
          "paper_bgcolor": "white",
          "plot_bgcolor": "#E5ECF6",
          "polar": {
           "angularaxis": {
            "gridcolor": "white",
            "linecolor": "white",
            "ticks": ""
           },
           "bgcolor": "#E5ECF6",
           "radialaxis": {
            "gridcolor": "white",
            "linecolor": "white",
            "ticks": ""
           }
          },
          "scene": {
           "xaxis": {
            "backgroundcolor": "#E5ECF6",
            "gridcolor": "white",
            "gridwidth": 2,
            "linecolor": "white",
            "showbackground": true,
            "ticks": "",
            "zerolinecolor": "white"
           },
           "yaxis": {
            "backgroundcolor": "#E5ECF6",
            "gridcolor": "white",
            "gridwidth": 2,
            "linecolor": "white",
            "showbackground": true,
            "ticks": "",
            "zerolinecolor": "white"
           },
           "zaxis": {
            "backgroundcolor": "#E5ECF6",
            "gridcolor": "white",
            "gridwidth": 2,
            "linecolor": "white",
            "showbackground": true,
            "ticks": "",
            "zerolinecolor": "white"
           }
          },
          "shapedefaults": {
           "line": {
            "color": "#2a3f5f"
           }
          },
          "ternary": {
           "aaxis": {
            "gridcolor": "white",
            "linecolor": "white",
            "ticks": ""
           },
           "baxis": {
            "gridcolor": "white",
            "linecolor": "white",
            "ticks": ""
           },
           "bgcolor": "#E5ECF6",
           "caxis": {
            "gridcolor": "white",
            "linecolor": "white",
            "ticks": ""
           }
          },
          "title": {
           "x": 0.05
          },
          "xaxis": {
           "automargin": true,
           "gridcolor": "white",
           "linecolor": "white",
           "ticks": "",
           "title": {
            "standoff": 15
           },
           "zerolinecolor": "white",
           "zerolinewidth": 2
          },
          "yaxis": {
           "automargin": true,
           "gridcolor": "white",
           "linecolor": "white",
           "ticks": "",
           "title": {
            "standoff": 15
           },
           "zerolinecolor": "white",
           "zerolinewidth": 2
          }
         }
        },
        "treemapcolorway": [
         "#9467bd",
         "#d62728",
         "#ff7f0e",
         "#1f77b4"
        ]
       }
      },
      "image/png": "[encoded data removed]",
      "text/html": [
       "<div>                            <div id=\"2560e5d0-5056-486e-a598-a0d657937f6d\" class=\"plotly-graph-div\" style=\"height:525px; width:100%;\"></div>            <script type=\"text/javascript\">                require([\"plotly\"], function(Plotly) {                    window.PLOTLYENV=window.PLOTLYENV || {};                                    if (document.getElementById(\"2560e5d0-5056-486e-a598-a0d657937f6d\")) {                    Plotly.newPlot(                        \"2560e5d0-5056-486e-a598-a0d657937f6d\",                        [{\"branchvalues\":\"total\",\"domain\":{\"x\":[0.0,1.0],\"y\":[0.0,1.0]},\"hovertemplate\":\"\\u003cb\\u003e%{hovertext}\\u003c\\u002fb\\u003e\\u003cbr\\u003e\\u003cbr\\u003elabels=%{label}\\u003cbr\\u003esales_k=%{value}\\u003cbr\\u003eparent=%{parent}\\u003cbr\\u003eid=%{id}\\u003cextra\\u003e\\u003c\\u002fextra\\u003e\",\"hovertext\":[\"Animal Well\",\"Balatro\",\"Black Myth: Wukong\",\"Call of Duty: Black Ops 6\",\"Cat Quest III\",\"Concord\",\"Dragon Age: The Veilguard\",\"Dragon Ball: Sparkling! Zero\",\"Dragon's Dogma 2\",\"F1 24\",\"Farming Simulator 25\",\"Frostpunk 2\",\"Goat Simulator 3\",\"Helldivers II\",\"Life Is Strange: Double Exposure\",\"Like a Dragon: Infinite Wealth\",\"Manor Lords\",\"Metaphor: ReFantazio\",\"NBA 2k25\",\"Neva\",\"Pacific Drive\",\"Persona 3 Reload\",\"Prince of Persia: The Lost Crown\",\"S.T.A.L.K.E.R 2: Hearth of Chornobyl\",\"Senua's Saga: Hellblade II\",\"Silent Hill 2\",\"Skull and Bones\",\"Star Wars Outlaws\",\"Suicide Squad: Kill the Justice League\",\"Tekken 8\",\"The Plucky Squire\",\"V Rising\",\"WWE 2K24\",\"Warhammer 40,000: Space Marine 2\",\"(?)\",\"(?)\",\"The Plucky Squire\",\"Black Myth: Wukong\",\"(?)\"],\"ids\":[\"America\\u002fAnimal Well\",\"America\\u002fBalatro\",\"Cina\\u002fBlack Myth: Wukong\",\"America\\u002fCall of Duty: Black Ops 6\",\"Asia\\u002fCat Quest III\",\"America\\u002fConcord\",\"America\\u002fDragon Age: The Veilguard\",\"Asia\\u002fDragon Ball: Sparkling! Zero\",\"Asia\\u002fDragon's Dogma 2\",\"Europa\\u002fF1 24\",\"Europa\\u002fFarming Simulator 25\",\"Europa\\u002fFrostpunk 2\",\"Europa\\u002fGoat Simulator 3\",\"Europa\\u002fHelldivers II\",\"America\\u002fLife Is Strange: Double Exposure\",\"Asia\\u002fLike a Dragon: Infinite Wealth\",\"Europa\\u002fManor Lords\",\"Asia\\u002fMetaphor: ReFantazio\",\"America\\u002fNBA 2k25\",\"Europa\\u002fNeva\",\"America\\u002fPacific Drive\",\"Asia\\u002fPersona 3 Reload\",\"Europa\\u002fPrince of Persia: The Lost Crown\",\"Europa\\u002fS.T.A.L.K.E.R 2: Hearth of Chornobyl\",\"Europa\\u002fSenua's Saga: Hellblade II\",\"Europa\\u002fSilent Hill 2\",\"Europa\\u002fSkull and Bones\",\"Europa\\u002fStar Wars Outlaws\",\"Europa\\u002fSuicide Squad: Kill the Justice League\",\"Asia\\u002fTekken 8\",\"Australia\\u002fThe Plucky Squire\",\"Europa\\u002fV Rising\",\"America\\u002fWWE 2K24\",\"America\\u002fWarhammer 40,000: Space Marine 2\",\"America\",\"Asia\",\"Australia\",\"Cina\",\"Europa\"],\"labels\":[\"Animal Well\",\"Balatro\",\"Black Myth: Wukong\",\"Call of Duty: Black Ops 6\",\"Cat Quest III\",\"Concord\",\"Dragon Age: The Veilguard\",\"Dragon Ball: Sparkling! Zero\",\"Dragon's Dogma 2\",\"F1 24\",\"Farming Simulator 25\",\"Frostpunk 2\",\"Goat Simulator 3\",\"Helldivers II\",\"Life Is Strange: Double Exposure\",\"Like a Dragon: Infinite Wealth\",\"Manor Lords\",\"Metaphor: ReFantazio\",\"NBA 2k25\",\"Neva\",\"Pacific Drive\",\"Persona 3 Reload\",\"Prince of Persia: The Lost Crown\",\"S.T.A.L.K.E.R 2: Hearth of Chornobyl\",\"Senua's Saga: Hellblade II\",\"Silent Hill 2\",\"Skull and Bones\",\"Star Wars Outlaws\",\"Suicide Squad: Kill the Justice League\",\"Tekken 8\",\"The Plucky Squire\",\"V Rising\",\"WWE 2K24\",\"Warhammer 40,000: Space Marine 2\",\"America\",\"Asia\",\"Australia\",\"Cina\",\"Europa\"],\"name\":\"\",\"parents\":[\"America\",\"America\",\"Cina\",\"America\",\"Asia\",\"America\",\"America\",\"Asia\",\"Asia\",\"Europa\",\"Europa\",\"Europa\",\"Europa\",\"Europa\",\"America\",\"Asia\",\"Europa\",\"Asia\",\"America\",\"Europa\",\"America\",\"Asia\",\"Europa\",\"Europa\",\"Europa\",\"Europa\",\"Europa\",\"Europa\",\"Europa\",\"Asia\",\"Australia\",\"Europa\",\"America\",\"America\",\"\",\"\",\"\",\"\",\"\"],\"values\":[372.0,1862.0,29922.0,15552.0,73.0,16.0,946.0,1462.0,19777.0,233.0,448.0,466.0,174.0,19182.0,104.0,434.0,2342.0,552.0,354.0,69.0,502.0,713.0,45.0,1133.0,449.0,475.0,35.0,28.0,250.0,880.0,49.0,4982.0,187.0,3565.0,23460.0,23891.0,49.0,29922.0,30311.0],\"type\":\"treemap\"}],                        {\"template\":{\"data\":{\"histogram2dcontour\":[{\"type\":\"histogram2dcontour\",\"colorbar\":{\"outlinewidth\":0,\"ticks\":\"\"},\"colorscale\":[[0.0,\"#0d0887\"],[0.1111111111111111,\"#46039f\"],[0.2222222222222222,\"#7201a8\"],[0.3333333333333333,\"#9c179e\"],[0.4444444444444444,\"#bd3786\"],[0.5555555555555556,\"#d8576b\"],[0.6666666666666666,\"#ed7953\"],[0.7777777777777778,\"#fb9f3a\"],[0.8888888888888888,\"#fdca26\"],[1.0,\"#f0f921\"]]}],\"choropleth\":[{\"type\":\"choropleth\",\"colorbar\":{\"outlinewidth\":0,\"ticks\":\"\"}}],\"histogram2d\":[{\"type\":\"histogram2d\",\"colorbar\":{\"outlinewidth\":0,\"ticks\":\"\"},\"colorscale\":[[0.0,\"#0d0887\"],[0.1111111111111111,\"#46039f\"],[0.2222222222222222,\"#7201a8\"],[0.3333333333333333,\"#9c179e\"],[0.4444444444444444,\"#bd3786\"],[0.5555555555555556,\"#d8576b\"],[0.6666666666666666,\"#ed7953\"],[0.7777777777777778,\"#fb9f3a\"],[0.8888888888888888,\"#fdca26\"],[1.0,\"#f0f921\"]]}],\"heatmap\":[{\"type\":\"heatmap\",\"colorbar\":{\"outlinewidth\":0,\"ticks\":\"\"},\"colorscale\":[[0.0,\"#0d0887\"],[0.1111111111111111,\"#46039f\"],[0.2222222222222222,\"#7201a8\"],[0.3333333333333333,\"#9c179e\"],[0.4444444444444444,\"#bd3786\"],[0.5555555555555556,\"#d8576b\"],[0.6666666666666666,\"#ed7953\"],[0.7777777777777778,\"#fb9f3a\"],[0.8888888888888888,\"#fdca26\"],[1.0,\"#f0f921\"]]}],\"heatmapgl\":[{\"type\":\"heatmapgl\",\"colorbar\":{\"outlinewidth\":0,\"ticks\":\"\"},\"colorscale\":[[0.0,\"#0d0887\"],[0.1111111111111111,\"#46039f\"],[0.2222222222222222,\"#7201a8\"],[0.3333333333333333,\"#9c179e\"],[0.4444444444444444,\"#bd3786\"],[0.5555555555555556,\"#d8576b\"],[0.6666666666666666,\"#ed7953\"],[0.7777777777777778,\"#fb9f3a\"],[0.8888888888888888,\"#fdca26\"],[1.0,\"#f0f921\"]]}],\"contourcarpet\":[{\"type\":\"contourcarpet\",\"colorbar\":{\"outlinewidth\":0,\"ticks\":\"\"}}],\"contour\":[{\"type\":\"contour\",\"colorbar\":{\"outlinewidth\":0,\"ticks\":\"\"},\"colorscale\":[[0.0,\"#0d0887\"],[0.1111111111111111,\"#46039f\"],[0.2222222222222222,\"#7201a8\"],[0.3333333333333333,\"#9c179e\"],[0.4444444444444444,\"#bd3786\"],[0.5555555555555556,\"#d8576b\"],[0.6666666666666666,\"#ed7953\"],[0.7777777777777778,\"#fb9f3a\"],[0.8888888888888888,\"#fdca26\"],[1.0,\"#f0f921\"]]}],\"surface\":[{\"type\":\"surface\",\"colorbar\":{\"outlinewidth\":0,\"ticks\":\"\"},\"colorscale\":[[0.0,\"#0d0887\"],[0.1111111111111111,\"#46039f\"],[0.2222222222222222,\"#7201a8\"],[0.3333333333333333,\"#9c179e\"],[0.4444444444444444,\"#bd3786\"],[0.5555555555555556,\"#d8576b\"],[0.6666666666666666,\"#ed7953\"],[0.7777777777777778,\"#fb9f3a\"],[0.8888888888888888,\"#fdca26\"],[1.0,\"#f0f921\"]]}],\"mesh3d\":[{\"type\":\"mesh3d\",\"colorbar\":{\"outlinewidth\":0,\"ticks\":\"\"}}],\"scatter\":[{\"fillpattern\":{\"fillmode\":\"overlay\",\"size\":10,\"solidity\":0.2},\"type\":\"scatter\"}],\"parcoords\":[{\"type\":\"parcoords\",\"line\":{\"colorbar\":{\"outlinewidth\":0,\"ticks\":\"\"}}}],\"scatterpolargl\":[{\"type\":\"scatterpolargl\",\"marker\":{\"colorbar\":{\"outlinewidth\":0,\"ticks\":\"\"}}}],\"bar\":[{\"error_x\":{\"color\":\"#2a3f5f\"},\"error_y\":{\"color\":\"#2a3f5f\"},\"marker\":{\"line\":{\"color\":\"#E5ECF6\",\"width\":0.5},\"pattern\":{\"fillmode\":\"overlay\",\"size\":10,\"solidity\":0.2}},\"type\":\"bar\"}],\"scattergeo\":[{\"type\":\"scattergeo\",\"marker\":{\"colorbar\":{\"outlinewidth\":0,\"ticks\":\"\"}}}],\"scatterpolar\":[{\"type\":\"scatterpolar\",\"marker\":{\"colorbar\":{\"outlinewidth\":0,\"ticks\":\"\"}}}],\"histogram\":[{\"marker\":{\"pattern\":{\"fillmode\":\"overlay\",\"size\":10,\"solidity\":0.2}},\"type\":\"histogram\"}],\"scattergl\":[{\"type\":\"scattergl\",\"marker\":{\"colorbar\":{\"outlinewidth\":0,\"ticks\":\"\"}}}],\"scatter3d\":[{\"type\":\"scatter3d\",\"line\":{\"colorbar\":{\"outlinewidth\":0,\"ticks\":\"\"}},\"marker\":{\"colorbar\":{\"outlinewidth\":0,\"ticks\":\"\"}}}],\"scattermapbox\":[{\"type\":\"scattermapbox\",\"marker\":{\"colorbar\":{\"outlinewidth\":0,\"ticks\":\"\"}}}],\"scatterternary\":[{\"type\":\"scatterternary\",\"marker\":{\"colorbar\":{\"outlinewidth\":0,\"ticks\":\"\"}}}],\"scattercarpet\":[{\"type\":\"scattercarpet\",\"marker\":{\"colorbar\":{\"outlinewidth\":0,\"ticks\":\"\"}}}],\"carpet\":[{\"aaxis\":{\"endlinecolor\":\"#2a3f5f\",\"gridcolor\":\"white\",\"linecolor\":\"white\",\"minorgridcolor\":\"white\",\"startlinecolor\":\"#2a3f5f\"},\"baxis\":{\"endlinecolor\":\"#2a3f5f\",\"gridcolor\":\"white\",\"linecolor\":\"white\",\"minorgridcolor\":\"white\",\"startlinecolor\":\"#2a3f5f\"},\"type\":\"carpet\"}],\"table\":[{\"cells\":{\"fill\":{\"color\":\"#EBF0F8\"},\"line\":{\"color\":\"white\"}},\"header\":{\"fill\":{\"color\":\"#C8D4E3\"},\"line\":{\"color\":\"white\"}},\"type\":\"table\"}],\"barpolar\":[{\"marker\":{\"line\":{\"color\":\"#E5ECF6\",\"width\":0.5},\"pattern\":{\"fillmode\":\"overlay\",\"size\":10,\"solidity\":0.2}},\"type\":\"barpolar\"}],\"pie\":[{\"automargin\":true,\"type\":\"pie\"}]},\"layout\":{\"autotypenumbers\":\"strict\",\"colorway\":[\"#636efa\",\"#EF553B\",\"#00cc96\",\"#ab63fa\",\"#FFA15A\",\"#19d3f3\",\"#FF6692\",\"#B6E880\",\"#FF97FF\",\"#FECB52\"],\"font\":{\"color\":\"#2a3f5f\"},\"hovermode\":\"closest\",\"hoverlabel\":{\"align\":\"left\"},\"paper_bgcolor\":\"white\",\"plot_bgcolor\":\"#E5ECF6\",\"polar\":{\"bgcolor\":\"#E5ECF6\",\"angularaxis\":{\"gridcolor\":\"white\",\"linecolor\":\"white\",\"ticks\":\"\"},\"radialaxis\":{\"gridcolor\":\"white\",\"linecolor\":\"white\",\"ticks\":\"\"}},\"ternary\":{\"bgcolor\":\"#E5ECF6\",\"aaxis\":{\"gridcolor\":\"white\",\"linecolor\":\"white\",\"ticks\":\"\"},\"baxis\":{\"gridcolor\":\"white\",\"linecolor\":\"white\",\"ticks\":\"\"},\"caxis\":{\"gridcolor\":\"white\",\"linecolor\":\"white\",\"ticks\":\"\"}},\"coloraxis\":{\"colorbar\":{\"outlinewidth\":0,\"ticks\":\"\"}},\"colorscale\":{\"sequential\":[[0.0,\"#0d0887\"],[0.1111111111111111,\"#46039f\"],[0.2222222222222222,\"#7201a8\"],[0.3333333333333333,\"#9c179e\"],[0.4444444444444444,\"#bd3786\"],[0.5555555555555556,\"#d8576b\"],[0.6666666666666666,\"#ed7953\"],[0.7777777777777778,\"#fb9f3a\"],[0.8888888888888888,\"#fdca26\"],[1.0,\"#f0f921\"]],\"sequentialminus\":[[0.0,\"#0d0887\"],[0.1111111111111111,\"#46039f\"],[0.2222222222222222,\"#7201a8\"],[0.3333333333333333,\"#9c179e\"],[0.4444444444444444,\"#bd3786\"],[0.5555555555555556,\"#d8576b\"],[0.6666666666666666,\"#ed7953\"],[0.7777777777777778,\"#fb9f3a\"],[0.8888888888888888,\"#fdca26\"],[1.0,\"#f0f921\"]],\"diverging\":[[0,\"#8e0152\"],[0.1,\"#c51b7d\"],[0.2,\"#de77ae\"],[0.3,\"#f1b6da\"],[0.4,\"#fde0ef\"],[0.5,\"#f7f7f7\"],[0.6,\"#e6f5d0\"],[0.7,\"#b8e186\"],[0.8,\"#7fbc41\"],[0.9,\"#4d9221\"],[1,\"#276419\"]]},\"xaxis\":{\"gridcolor\":\"white\",\"linecolor\":\"white\",\"ticks\":\"\",\"title\":{\"standoff\":15},\"zerolinecolor\":\"white\",\"automargin\":true,\"zerolinewidth\":2},\"yaxis\":{\"gridcolor\":\"white\",\"linecolor\":\"white\",\"ticks\":\"\",\"title\":{\"standoff\":15},\"zerolinecolor\":\"white\",\"automargin\":true,\"zerolinewidth\":2},\"scene\":{\"xaxis\":{\"backgroundcolor\":\"#E5ECF6\",\"gridcolor\":\"white\",\"linecolor\":\"white\",\"showbackground\":true,\"ticks\":\"\",\"zerolinecolor\":\"white\",\"gridwidth\":2},\"yaxis\":{\"backgroundcolor\":\"#E5ECF6\",\"gridcolor\":\"white\",\"linecolor\":\"white\",\"showbackground\":true,\"ticks\":\"\",\"zerolinecolor\":\"white\",\"gridwidth\":2},\"zaxis\":{\"backgroundcolor\":\"#E5ECF6\",\"gridcolor\":\"white\",\"linecolor\":\"white\",\"showbackground\":true,\"ticks\":\"\",\"zerolinecolor\":\"white\",\"gridwidth\":2}},\"shapedefaults\":{\"line\":{\"color\":\"#2a3f5f\"}},\"annotationdefaults\":{\"arrowcolor\":\"#2a3f5f\",\"arrowhead\":0,\"arrowwidth\":1},\"geo\":{\"bgcolor\":\"white\",\"landcolor\":\"#E5ECF6\",\"subunitcolor\":\"white\",\"showland\":true,\"showlakes\":true,\"lakecolor\":\"white\"},\"title\":{\"x\":0.05},\"mapbox\":{\"style\":\"light\"}}},\"legend\":{\"tracegroupgap\":0},\"margin\":{\"t\":60},\"treemapcolorway\":[\"#9467bd\",\"#d62728\",\"#ff7f0e\",\"#1f77b4\"]},                        {\"responsive\": true}                    ).then(function(){\n",
       "                            \n",
       "var gd = document.getElementById('2560e5d0-5056-486e-a598-a0d657937f6d');\n",
       "var x = new MutationObserver(function (mutations, observer) {{\n",
       "        var display = window.getComputedStyle(gd).display;\n",
       "        if (!display || display === 'none') {{\n",
       "            console.log([gd, 'removed!']);\n",
       "            Plotly.purge(gd);\n",
       "            observer.disconnect();\n",
       "        }}\n",
       "}});\n",
       "\n",
       "// Listen for the removal of the full notebook cells\n",
       "var notebookContainer = gd.closest('#notebook-container');\n",
       "if (notebookContainer) {{\n",
       "    x.observe(notebookContainer, {childList: true});\n",
       "}}\n",
       "\n",
       "// Listen for the clearing of the current output cell\n",
       "var outputEl = gd.closest('.output');\n",
       "if (outputEl) {{\n",
       "    x.observe(outputEl, {childList: true});\n",
       "}}\n",
       "\n",
       "                        })                };                });            </script>        </div>"
      ]
     },
     "metadata": {},
     "output_type": "display_data"
    }
   ],
   "source": [
    "fig = px.treemap(games_to_compare, hover_name='name', path=['from_where','name'], values='sales_k',\n",
    "                color_discrete_sequence=[\"#9467bd\", \"#d62728\", \"#ff7f0e\", \"#1f77b4\"])\n",
    "\n",
    "fig.show()\n",
    "fig.write_image(build_chart_path(\"treemap_sales_by_continent\"))"
   ]
  },
  {
   "cell_type": "markdown",
   "id": "4915df20-71d8-416a-aafc-cc1e9c67d5ab",
   "metadata": {},
   "source": [
    "## Vendite in relazione alle recensioni"
   ]
  },
  {
   "cell_type": "code",
   "execution_count": 48,
   "id": "e1909ab6-f87c-4736-ad07-02680697b881",
   "metadata": {},
   "outputs": [
    {
     "data": {
      "image/png": "[encoded data removed]",
      "text/plain": [
       "<Figure size 1000x400 with 1 Axes>"
      ]
     },
     "metadata": {},
     "output_type": "display_data"
    }
   ],
   "source": [
    "import matplotlib.pyplot as plt\n",
    "\n",
    "\n",
    "games_to_compare = sales_aaa_aa.query('comparing_with_concord != 1')\n",
    "concord = sales_aaa.query('name==\"Concord\"')\n",
    "\n",
    "fig, ax = plt.subplots(figsize=(10, 4))\n",
    "for spine in plt.gca().spines.values(): spine.set_visible(False)\n",
    "\n",
    "plt.scatter(sales_aaa['sales_k']/1000, sales_aaa['reviews'], color='black', marker='o', s=50)\n",
    "plt.scatter(concord['sales_k']/1000, concord['reviews'], color='green', marker='o', s=50)\n",
    "\n",
    "plt.tight_layout()\n",
    "ax.set_axisbelow(True)\n",
    "plt.savefig(build_chart_path(\"sales_and_reviews_2024\"), format=\"svg\")"
   ]
  },
  {
   "cell_type": "markdown",
   "id": "2d954206-e29e-46ee-9d90-8837affb058e",
   "metadata": {},
   "source": [
    "## Giochi Steam approvati in Cina"
   ]
  },
  {
   "cell_type": "code",
   "execution_count": 151,
   "id": "74f3e884-89f4-4484-ba6b-ad9d7e9cd88f",
   "metadata": {},
   "outputs": [
    {
     "data": {
      "image/png": "[encoded data removed]",
      "text/plain": [
       "<Figure size 1000x400 with 1 Axes>"
      ]
     },
     "metadata": {},
     "output_type": "display_data"
    }
   ],
   "source": [
    "import numpy as np\n",
    "\n",
    "games_in_china = pd.DataFrame(\n",
    "    index=list(range(2018, 2024)),\n",
    "    data={\n",
    "    'global_releases_steam': [8923, 8163, 9821, 11557, 12966, 14532],\n",
    "    'domestic_games_approved': [1892, 1085, 1307, 679, 468, 0],\n",
    "    'games_approved': [50, 180, 97, 76, 44, 1076]\n",
    "    }\n",
    ")\n",
    "\n",
    "# Merging data about local games and non-local games in China that are approved\n",
    "games_in_china['games_approved'] =  games_in_china.iloc[:, 1:3].sum(axis=1)\n",
    "\n",
    "barWidth = 0.25\n",
    "\n",
    "r = np.arange(len(games_in_china.index))\n",
    "r2 = r + barWidth\n",
    "\n",
    "fig, ax = plt.subplots(figsize=(10, 4))\n",
    "for spine in plt.gca().spines.values(): spine.set_visible(False)\n",
    "\n",
    "bars1= ax.bar(r, games_in_china['global_releases_steam'], color='#7f6d5f', width=barWidth, label='Rilasci globali su Steam')\n",
    "bars2= ax.bar(r2, games_in_china['games_approved'], color='#2d7f5e', width=barWidth, label='Videogiochi approvati in Cina')\n",
    "\n",
    "# Xticks\n",
    "ax.set_xticks(r + barWidth)\n",
    "ax.set_xticklabels(games_in_china.index)\n",
    "ax.set_yticks(list(range(0, 15000, 7000)))\n",
    "\n",
    "for bar_group in [bars1, bars2]:\n",
    "    for bar in bar_group:\n",
    "        height = bar.get_height()\n",
    "        ax.text(\n",
    "            bar.get_x() + bar.get_width() / 2,\n",
    "            height,\n",
    "            f'{height}',\n",
    "            ha='center', va='bottom',\n",
    "            fontsize=8\n",
    "        )\n",
    "\n",
    "rect = ax.patch\n",
    "rect.set_alpha(0)\n",
    "\n",
    "plt.tight_layout()\n",
    "# ax.legend()\n",
    "\n",
    "plt.savefig(build_chart_path(\"games_approved_china_yearly\"), format=\"svg\")"
   ]
  },
  {
   "cell_type": "markdown",
   "id": "0a2e3db9-b8f2-4d97-887c-a0a07c385cd1",
   "metadata": {},
   "source": [
    "#### Note\n",
    "\n",
    "Rimuovere scala sull'asse delle y. Abbiamo già i numeri sulle colonne"
   ]
  },
  {
   "cell_type": "markdown",
   "id": "878fc6c5-e55d-478c-ab07-ece3bf707c40",
   "metadata": {},
   "source": [
    "## Oscillazione recensioni nei primi quattro mesi"
   ]
  },
  {
   "cell_type": "code",
   "execution_count": 49,
   "id": "b6a79a8b-8a6b-4bcb-a154-ea216ad3e8b1",
   "metadata": {},
   "outputs": [],
   "source": [
    "path = os.getcwd()\n",
    "csv_files = glob.glob(os.path.join(path, \"data/reviews/*.csv\"))\n",
    "\n",
    "games_reviews = {}\n",
    "\n",
    "for f in csv_files:\n",
    "    df = pd.read_csv(f, sep=\";\").head(120)\n",
    "\n",
    "    df['DateTime'] = pd.to_datetime(df['DateTime'])\n",
    "    df['Rating'] = df[\"Rating\"].str.replace(',', '.').astype(float)\n",
    "    df['Rating'] = df['Rating'].round(2)\n",
    "\n",
    "    filename = (f.split(\"/\")[-1]).split(\".csv\")[0]\n",
    "\n",
    "    games_reviews[filename.split(\"_\")[0]] = df"
   ]
  },
  {
   "cell_type": "code",
   "execution_count": 147,
   "id": "607765af-58fc-4156-a9a1-bab33aef1d3b",
   "metadata": {},
   "outputs": [
    {
     "data": {
      "image/png": "[encoded data removed]",
      "text/plain": [
       "<Figure size 1000x600 with 1 Axes>"
      ]
     },
     "metadata": {},
     "output_type": "display_data"
    }
   ],
   "source": [
    "fig, ax = plt.subplots(figsize=(10,6))\n",
    "for spine in plt.gca().spines.values(): spine.set_visible(False)\n",
    "\n",
    "for game in games_reviews:\n",
    "    df = games_reviews[game]\n",
    "\n",
    "    if game == \"HelldiversII\":\n",
    "        ax.plot(df.index, df['Rating'], label=game, color=\"#0F9D58\", linewidth=2, zorder=1)\n",
    "    elif game == \"Tekken8\":\n",
    "        ax.plot(df.index, df['Rating'], label=game, color=\"#1E88E5\", linewidth=2, zorder=0)\n",
    "    else:\n",
    "        ax.plot(df.index, df['Rating'], label=game, color=\"#E6E6E6\", zorder=0)\n",
    "\n",
    "rect = ax.patch\n",
    "rect.set_alpha(0)\n",
    "\n",
    "\n",
    "ax.set_ylim(0, 100)\n",
    "ax.legend()\n",
    "plt.tight_layout()\n",
    "ax.set_axisbelow(True)\n",
    "ax.tick_params(colors='#cccccc')\n",
    "ax.yaxis.grid(color='#cccccc')\n",
    "\n",
    "plt.savefig(build_chart_path(\"fluctuations_reviews_helldivers\"), format=\"svg\")"
   ]
  },
  {
   "cell_type": "code",
   "execution_count": 146,
   "id": "b1b15ad1-86f3-4ca9-af57-147132fc004a",
   "metadata": {},
   "outputs": [
    {
     "data": {
      "image/png": "[encoded data removed]",
      "text/plain": [
       "<Figure size 1000x600 with 1 Axes>"
      ]
     },
     "metadata": {},
     "output_type": "display_data"
    }
   ],
   "source": [
    "fig, ax = plt.subplots(figsize=(10,6))\n",
    "for spine in plt.gca().spines.values(): spine.set_visible(False)\n",
    "\n",
    "for game in games_reviews:\n",
    "    df = games_reviews[game]\n",
    "\n",
    "    if game == \"HelldiversII\":\n",
    "        ax.plot(df.index, df['Rating'], label=game, color=\"#0F9D58\", linewidth=3, zorder=1)\n",
    "\n",
    "rect = ax.patch\n",
    "rect.set_alpha(0)\n",
    "\n",
    "ax.set_ylim(0, 100)\n",
    "\n",
    "ax.legend()\n",
    "plt.tight_layout()\n",
    "ax.set_axisbelow(True)\n",
    "ax.tick_params(colors='#cccccc')\n",
    "ax.yaxis.grid(color='#cccccc')\n",
    "\n",
    "plt.savefig(build_chart_path(\"fluctuations_reviews_helldivers_only\"), format=\"svg\")"
   ]
  },
  {
   "cell_type": "markdown",
   "id": "f9d5932b-4a12-43d2-acc1-dd20ea737b9b",
   "metadata": {},
   "source": [
    "## Metacritic vs Usercritic"
   ]
  },
  {
   "cell_type": "code",
   "execution_count": 152,
   "id": "bac06799-fff3-43b4-916d-d58a4a966bce",
   "metadata": {},
   "outputs": [
    {
     "data": {
      "image/png": "[encoded data removed]",
      "text/plain": [
       "<Figure size 1200x600 with 1 Axes>"
      ]
     },
     "metadata": {},
     "output_type": "display_data"
    }
   ],
   "source": [
    "df = pd.DataFrame(\n",
    "    columns = ['name', 'metascore', 'userscore'],\n",
    "    data = {\n",
    "        'name':['Concord', 'Suicide Squad: Kill The Justice League', 'Skull and Bones',\n",
    "          'Star Wars Outlaws', 'Call of Duty: Black Ops 6', 'Tekken 8',\n",
    "          \"Dragon's Dogma 2\", 'Dragon Age: The Veilguard', 'NBA 2K25', \"F1 24\"],\n",
    "        'metascore': [62, 60, 59, 75, 83, 90, 86, 82, 79, 72],\n",
    "        'userscore': [17, 34, 34, 53, 67, 76, 64, 38, 58, 44]\n",
    "    }\n",
    ")\n",
    "\n",
    "df = df.sort_values(by=[\"metascore\", \"userscore\"]).reset_index(drop=True)\n",
    "df['difference'] = df['metascore'] - df['userscore']\n",
    "\n",
    "fig, ax = plt.subplots(figsize=(12, 6))\n",
    "for spine in plt.gca().spines.values(): spine.set_visible(False)\n",
    "\n",
    "bar_meta = ax.barh(df['name'], df['metascore'], label='Metascore', color='green')\n",
    "bar_user = ax.barh(df['name'], df['userscore'], label='Userscore', color='orange')\n",
    "\n",
    "for index, bar in enumerate(bar_meta):\n",
    "    x = bar.get_width()\n",
    "    y = bar.get_y() + bar.get_height() / 2\n",
    "\n",
    "    ax.text(2, y, f'{df['difference'][index]}', va='center', ha='left', color='white', fontweight=\"bold\")\n",
    "\n",
    "rect = ax.patch\n",
    "rect.set_alpha(0)\n",
    "\n",
    "ax.legend()\n",
    "plt.tight_layout()\n",
    "ax.set_axisbelow(True)\n",
    "ax.xaxis.grid(color='#cccccc')\n",
    "\n",
    "plt.savefig(build_chart_path(\"metacritic_usercritic\"), format=\"svg\")"
   ]
  },
  {
   "cell_type": "markdown",
   "id": "530e3031-4d7a-4c21-8cec-4f5af7c4a61e",
   "metadata": {},
   "source": [
    "## Top mobile games 2024"
   ]
  },
  {
   "cell_type": "code",
   "execution_count": 19,
   "id": "9f12f9a7-798c-49fe-89f0-becd9c00f6fd",
   "metadata": {},
   "outputs": [
    {
     "data": {
      "image/png": "[encoded data removed]",
      "text/plain": [
       "<Figure size 1200x600 with 1 Axes>"
      ]
     },
     "metadata": {},
     "output_type": "display_data"
    }
   ],
   "source": [
    "df = pd.DataFrame(\n",
    "    columns = [\"name\", \"revenue\"],\n",
    "    data = {\n",
    "        \"name\": ['Honor of Kings', 'PUBG Mobile', 'Candy Crush Saga', 'Genshin Impact', 'Roblox', 'Royal Match', 'Coin Master', \n",
    "         'Honkai: Star Rail', 'Monopoly GO', 'Gardenscapes'],\n",
    "        \"revenue\": [1480, 1140, 957, 944, 869, 835, 729, 659, 645, 606]\n",
    "    }\n",
    ")\n",
    "\n",
    "df = df.sort_values(by=[\"revenue\"])\n",
    "\n",
    "fig, ax = plt.subplots(figsize=(12, 6))\n",
    "\n",
    "ax.barh(df['name'], df['revenue'], color='#ccc')\n",
    "for spine in plt.gca().spines.values(): spine.set_visible(False)\n",
    "\n",
    "# plt.title('Top 10 giochi mobile del 2023 per incassi')\n",
    "# plt.xlabel('dollars of revenue (in millions)')\n",
    "# plt.ylabel('')\n",
    "\n",
    "plt.tight_layout()\n",
    "ax.set_axisbelow(True)\n",
    "ax.xaxis.grid(color='#cccccc')\n",
    "\n",
    "\n",
    "plt.savefig(build_chart_path(\"top_mobile_games_2024\"), format=\"svg\")"
   ]
  },
  {
   "cell_type": "markdown",
   "id": "75e4421b-b8f9-4145-a909-7404401f7813",
   "metadata": {},
   "source": [
    "## Active Players"
   ]
  },
  {
   "cell_type": "code",
   "execution_count": 57,
   "id": "ba664ede-6cff-4abd-9257-8615e3cde633",
   "metadata": {},
   "outputs": [
    {
     "data": {
      "text/html": [
       "<div>\n",
       "<style scoped>\n",
       "    .dataframe tbody tr th:only-of-type {\n",
       "        vertical-align: middle;\n",
       "    }\n",
       "\n",
       "    .dataframe tbody tr th {\n",
       "        vertical-align: top;\n",
       "    }\n",
       "\n",
       "    .dataframe thead th {\n",
       "        text-align: right;\n",
       "    }\n",
       "</style>\n",
       "<table border=\"1\" class=\"dataframe\">\n",
       "  <thead>\n",
       "    <tr style=\"text-align: right;\">\n",
       "      <th></th>\n",
       "      <th>DateTime</th>\n",
       "      <th>Players</th>\n",
       "      <th>game</th>\n",
       "    </tr>\n",
       "  </thead>\n",
       "  <tbody>\n",
       "    <tr>\n",
       "      <th>0</th>\n",
       "      <td>20048.0</td>\n",
       "      <td>396.0</td>\n",
       "      <td>Strinova</td>\n",
       "    </tr>\n",
       "    <tr>\n",
       "      <th>1</th>\n",
       "      <td>20049.0</td>\n",
       "      <td>9525.0</td>\n",
       "      <td>Strinova</td>\n",
       "    </tr>\n",
       "    <tr>\n",
       "      <th>2</th>\n",
       "      <td>20049.0</td>\n",
       "      <td>13406.0</td>\n",
       "      <td>Strinova</td>\n",
       "    </tr>\n",
       "    <tr>\n",
       "      <th>3</th>\n",
       "      <td>20049.0</td>\n",
       "      <td>15039.0</td>\n",
       "      <td>Strinova</td>\n",
       "    </tr>\n",
       "    <tr>\n",
       "      <th>4</th>\n",
       "      <td>20049.0</td>\n",
       "      <td>15662.0</td>\n",
       "      <td>Strinova</td>\n",
       "    </tr>\n",
       "    <tr>\n",
       "      <th>...</th>\n",
       "      <td>...</td>\n",
       "      <td>...</td>\n",
       "      <td>...</td>\n",
       "    </tr>\n",
       "    <tr>\n",
       "      <th>6222</th>\n",
       "      <td>20063.0</td>\n",
       "      <td>0.0</td>\n",
       "      <td>Concord</td>\n",
       "    </tr>\n",
       "    <tr>\n",
       "      <th>6223</th>\n",
       "      <td>20063.0</td>\n",
       "      <td>0.0</td>\n",
       "      <td>Concord</td>\n",
       "    </tr>\n",
       "    <tr>\n",
       "      <th>6224</th>\n",
       "      <td>20063.0</td>\n",
       "      <td>0.0</td>\n",
       "      <td>Concord</td>\n",
       "    </tr>\n",
       "    <tr>\n",
       "      <th>6225</th>\n",
       "      <td>20063.0</td>\n",
       "      <td>0.0</td>\n",
       "      <td>Concord</td>\n",
       "    </tr>\n",
       "    <tr>\n",
       "      <th>6226</th>\n",
       "      <td>20063.0</td>\n",
       "      <td>0.0</td>\n",
       "      <td>Concord</td>\n",
       "    </tr>\n",
       "  </tbody>\n",
       "</table>\n",
       "<p>6227 rows × 3 columns</p>\n",
       "</div>"
      ],
      "text/plain": [
       "      DateTime  Players      game\n",
       "0      20048.0    396.0  Strinova\n",
       "1      20049.0   9525.0  Strinova\n",
       "2      20049.0  13406.0  Strinova\n",
       "3      20049.0  15039.0  Strinova\n",
       "4      20049.0  15662.0  Strinova\n",
       "...        ...      ...       ...\n",
       "6222   20063.0      0.0   Concord\n",
       "6223   20063.0      0.0   Concord\n",
       "6224   20063.0      0.0   Concord\n",
       "6225   20063.0      0.0   Concord\n",
       "6226   20063.0      0.0   Concord\n",
       "\n",
       "[6227 rows x 3 columns]"
      ]
     },
     "execution_count": 57,
     "metadata": {},
     "output_type": "execute_result"
    }
   ],
   "source": [
    "import matplotlib.dates as mdates\n",
    "\n",
    "path = os.getcwd()\n",
    "csv_files = glob.glob(os.path.join(path, \"data/active_players/*.csv\"))\n",
    "\n",
    "active_players = pd.DataFrame()\n",
    "\n",
    "for f in csv_files:\n",
    "    filename = (f.split(\"/\")[-1]).split(\".csv\")[0]\n",
    "    game = filename.split(\"_\")[1]\n",
    "    \n",
    "    df = pd.read_csv(f, sep=\";\")\n",
    "    \n",
    "    df = df.fillna(0)\n",
    "    df['Players'] = pd.to_numeric(df['Players'])\n",
    "    df['DateTime'] = pd.to_datetime(df['DateTime']).dt.date\n",
    "    df['DateTime'] = mdates.date2num(df['DateTime'])\n",
    "\n",
    "    # i'm removing all the entries before august\n",
    "    # df = df.drop(df[df['epoch'] < 1724112000].index)\n",
    "\n",
    "    df['Players'] = df['Players']\n",
    "\n",
    "    df_grouped = df#.groupby(['DateTime'])['Players'].sum().reset_index()\n",
    "    df_grouped['game'] = game\n",
    "\n",
    "    active_players = pd.concat([active_players, df_grouped], ignore_index=True)\n",
    "\n",
    "active_players"
   ]
  },
  {
   "cell_type": "code",
   "execution_count": 58,
   "id": "f892db91-2695-45b0-bc1d-4a6a445fcd2a",
   "metadata": {},
   "outputs": [
    {
     "data": {
      "image/png": "[encoded data removed]",
      "text/plain": [
       "<Figure size 1140x685 with 5 Axes>"
      ]
     },
     "metadata": {},
     "output_type": "display_data"
    }
   ],
   "source": [
    "import pandas as pd\n",
    "import numpy as np\n",
    "import matplotlib.pyplot as plt\n",
    "\n",
    "from datetime import datetime, date, timedelta\n",
    "import locale\n",
    "locale.setlocale(locale.LC_TIME, \"it_IT\")\n",
    "\n",
    "active_players['scaled_players'] = np.log10(active_players['Players'] + 1)\n",
    "games = list(active_players['game'].unique())\n",
    "\n",
    "plt.rcParams.update({'font.size': 8})\n",
    "fig, ax = plt.subplots(len(games), figsize=(11.4, 6.85))\n",
    "\n",
    "x_ticks = np.arange(date(2024,8,1), datetime.today(), timedelta(days=31)).astype(datetime)\n",
    "\n",
    "ath_players = {}\n",
    "\n",
    "for i, game in enumerate(games):\n",
    "    selected_game = active_players.query(f'game == \"{game}\"')\n",
    "\n",
    "    ath_players[game] = selected_game.loc[selected_game['Players'].idxmax()]\n",
    "\n",
    "    ax[i].plot(selected_game['DateTime'], selected_game['scaled_players'], label=game)\n",
    "    ax[i].set_xticks(x_ticks)\n",
    "    ax[i].set_ylim(0,8)\n",
    "\n",
    "    rect = ax[i].patch\n",
    "    rect.set_alpha(0)\n",
    "\n",
    "    if i == len(games)-1:\n",
    "        new_dates = [mdates.num2date(x).strftime('%b %Y') for x in ax[i].get_xticks()]\n",
    "        ax[i].set_xticklabels(new_dates)\n",
    "        ax[i].yaxis.grid(color='#cccccc')\n",
    "    else:\n",
    "        ax[i].set_xticks([])\n",
    "\n",
    "    ax[i].legend()\n",
    "\n",
    "    spines = [\"top\",\"right\",\"left\"]\n",
    "    for s in spines:\n",
    "        ax[i].spines[s].set_visible(False)\n",
    "\n",
    "\n",
    "# plt.show()\n",
    "plt.savefig(build_chart_path(\"active_players_pvp_logscaled\"), format=\"svg\")"
   ]
  },
  {
   "cell_type": "code",
   "execution_count": 59,
   "id": "f5a77c90-dbc4-49d8-accd-a2d13371e023",
   "metadata": {},
   "outputs": [
    {
     "data": {
      "text/html": [
       "<div>\n",
       "<style scoped>\n",
       "    .dataframe tbody tr th:only-of-type {\n",
       "        vertical-align: middle;\n",
       "    }\n",
       "\n",
       "    .dataframe tbody tr th {\n",
       "        vertical-align: top;\n",
       "    }\n",
       "\n",
       "    .dataframe thead th {\n",
       "        text-align: right;\n",
       "    }\n",
       "</style>\n",
       "<table border=\"1\" class=\"dataframe\">\n",
       "  <thead>\n",
       "    <tr style=\"text-align: right;\">\n",
       "      <th></th>\n",
       "      <th>DateTime</th>\n",
       "      <th>Players</th>\n",
       "    </tr>\n",
       "  </thead>\n",
       "  <tbody>\n",
       "    <tr>\n",
       "      <th>Strinova</th>\n",
       "      <td>24 Novembre 2024</td>\n",
       "      <td>38043.0</td>\n",
       "    </tr>\n",
       "    <tr>\n",
       "      <th>Bloodstrike</th>\n",
       "      <td>24 Novembre 2024</td>\n",
       "      <td>3136.0</td>\n",
       "    </tr>\n",
       "    <tr>\n",
       "      <th>Deadlock</th>\n",
       "      <td>01 Settembre 2024</td>\n",
       "      <td>150000.0</td>\n",
       "    </tr>\n",
       "    <tr>\n",
       "      <th>MarvelRivals</th>\n",
       "      <td>06 Dicembre 2024</td>\n",
       "      <td>150000.0</td>\n",
       "    </tr>\n",
       "    <tr>\n",
       "      <th>Concord</th>\n",
       "      <td>24 Agosto 2024</td>\n",
       "      <td>607.0</td>\n",
       "    </tr>\n",
       "  </tbody>\n",
       "</table>\n",
       "</div>"
      ],
      "text/plain": [
       "                       DateTime   Players\n",
       "Strinova       24 Novembre 2024   38043.0\n",
       "Bloodstrike    24 Novembre 2024    3136.0\n",
       "Deadlock      01 Settembre 2024  150000.0\n",
       "MarvelRivals   06 Dicembre 2024  150000.0\n",
       "Concord          24 Agosto 2024     607.0"
      ]
     },
     "execution_count": 59,
     "metadata": {},
     "output_type": "execute_result"
    }
   ],
   "source": [
    "ath_df = pd.DataFrame.from_dict(ath_players, orient='index',\n",
    "                       columns=['DateTime', 'Players', 'game', 'scaled_players', 'relative_change'])\n",
    "ath_df = ath_df.drop(columns=['game', 'scaled_players', 'relative_change'])\n",
    "\n",
    "ath_df['DateTime'] = ath_df['DateTime'].apply(lambda x: mdates.num2date(x).strftime('%d %B %Y'))\n",
    "\n",
    "ath_df"
   ]
  }
 ],
 "metadata": {
  "kernelspec": {
   "display_name": "Python 3 (ipykernel)",
   "language": "python",
   "name": "python3"
  },
  "language_info": {
   "codemirror_mode": {
    "name": "ipython",
    "version": 3
   },
   "file_extension": ".py",
   "mimetype": "text/x-python",
   "name": "python",
   "nbconvert_exporter": "python",
   "pygments_lexer": "ipython3",
   "version": "3.12.6"
  }
 },
 "nbformat": 4,
 "nbformat_minor": 5
}
